{
 "cells": [
  {
   "cell_type": "markdown",
   "metadata": {},
   "source": [
    "# Plotting your data and statistical thinking"
   ]
  },
  {
   "cell_type": "markdown",
   "metadata": {},
   "source": [
    "## Recall the histogram"
   ]
  },
  {
   "cell_type": "markdown",
   "metadata": {},
   "source": [
    "In the previous chapter, we used the histogram to visualize our data. The histogram can be useful for getting an immediate sense of what you data looks like but it has certain pitfalls and there are other visualization that are more appropriate much of the time. Let's recall the histogram by generating some binomially-distributed data and plotting it:"
   ]
  },
  {
   "cell_type": "code",
   "execution_count": null,
   "metadata": {
    "execution": {
     "iopub.execute_input": "2022-04-30T07:02:37.475280Z",
     "iopub.status.busy": "2022-04-30T07:02:37.474875Z",
     "iopub.status.idle": "2022-04-30T07:02:38.463653Z",
     "shell.execute_reply": "2022-04-30T07:02:38.463206Z"
    }
   },
   "outputs": [],
   "source": [
    "#Import packages\n",
    "import numpy as np\n",
    "import pandas as pd\n",
    "import seaborn as sns\n",
    "import matplotlib.pyplot as plt\n",
    "%matplotlib inline\n",
    "sns.set()"
   ]
  },
  {
   "cell_type": "code",
   "execution_count": null,
   "metadata": {
    "execution": {
     "iopub.execute_input": "2022-04-30T07:02:38.465994Z",
     "iopub.status.busy": "2022-04-30T07:02:38.465861Z",
     "iopub.status.idle": "2022-04-30T07:02:38.595164Z",
     "shell.execute_reply": "2022-04-30T07:02:38.594798Z"
    }
   },
   "outputs": [],
   "source": [
    "# Generate data & plot histogram\n",
    "rng = np.random.default_rng(42)\n",
    "x = rng.binomial(10, 0.5, 10000)\n",
    "plt.hist(x, density=True, bins=10);"
   ]
  },
  {
   "cell_type": "markdown",
   "metadata": {},
   "source": [
    "We can immediately see the range of the data, the mode, and the shape, which are good things! However, there are two immediate problems\n",
    "\n",
    "* Looking at the histogram, we cannot easily answer intuitive and important questions, such as \"can you tell me the probability of seeing 4 or more heads?\"\n",
    "* It isns't clear how much of what we can see is a result of the bin sizes we've chosen (known as _binning bias_).\n",
    "\n",
    "These problems occur when we have a single univariate dataset. Histograms are more problematic when we're trying to visualize several datasets, such as control plus experiment _or_ multiple populations, which we'll get to.\n",
    "\n",
    "Let's delve deeper into binning bias."
   ]
  },
  {
   "cell_type": "markdown",
   "metadata": {},
   "source": [
    "### Binning Bias"
   ]
  },
  {
   "cell_type": "markdown",
   "metadata": {},
   "source": [
    "In the following, we generate populations from two normal distributions (bell curves) with different means, combine the datasets, and plot the resulting histogram:"
   ]
  },
  {
   "cell_type": "code",
   "execution_count": null,
   "metadata": {
    "execution": {
     "iopub.execute_input": "2022-04-30T07:02:38.612389Z",
     "iopub.status.busy": "2022-04-30T07:02:38.612235Z",
     "iopub.status.idle": "2022-04-30T07:02:38.730005Z",
     "shell.execute_reply": "2022-04-30T07:02:38.729440Z"
    }
   },
   "outputs": [],
   "source": [
    "# Generate data & plot histogram \n",
    "rng = np.random.default_rng(42)\n",
    "x1 = rng.normal(10, 1, 1000)\n",
    "x2 = rng.normal(14, 1, 300)\n",
    "x_all = np.concatenate((x1, x2))\n",
    "plt.hist(x_all, density=True, bins=50);"
   ]
  },
  {
   "cell_type": "markdown",
   "metadata": {},
   "source": [
    "Note that you can distinctly see two modes (peaks) here. However, were we to choose a different bin size, we'd only see one peak! We do see here:"
   ]
  },
  {
   "cell_type": "code",
   "execution_count": null,
   "metadata": {
    "execution": {
     "iopub.execute_input": "2022-04-30T07:02:38.732427Z",
     "iopub.status.busy": "2022-04-30T07:02:38.732268Z",
     "iopub.status.idle": "2022-04-30T07:02:38.823887Z",
     "shell.execute_reply": "2022-04-30T07:02:38.823532Z"
    }
   },
   "outputs": [],
   "source": [
    "# Generate data & plot histogram \n",
    "rng = np.random.default_rng(42)\n",
    "x1 = rng.normal(10, 1, 1000)\n",
    "x2 = rng.normal(14, 1, 300)\n",
    "x_all = np.concatenate((x1, x2))\n",
    "plt.hist(x_all, density=True, bins=5);"
   ]
  },
  {
   "cell_type": "markdown",
   "metadata": {},
   "source": [
    "On top of this, if we choose a lot more bins, the histogram begins to contain a lot more sampling noise and it isn't even clear how many actual peaks there are:"
   ]
  },
  {
   "cell_type": "code",
   "execution_count": null,
   "metadata": {
    "execution": {
     "iopub.execute_input": "2022-04-30T07:02:38.827116Z",
     "iopub.status.busy": "2022-04-30T07:02:38.826920Z",
     "iopub.status.idle": "2022-04-30T07:02:39.002266Z",
     "shell.execute_reply": "2022-04-30T07:02:39.001941Z"
    }
   },
   "outputs": [],
   "source": [
    "# Generate data & plot histogram \n",
    "rng = np.random.default_rng(42)\n",
    "x1 = rng.normal(10, 1, 1000)\n",
    "x2 = rng.normal(14, 1, 300)\n",
    "x_all = np.concatenate((x1, x2))\n",
    "plt.hist(x_all, density=True, bins=120);"
   ]
  },
  {
   "cell_type": "markdown",
   "metadata": {},
   "source": [
    "Put another way, binning bias can lead to challenges with seeing multiples modes in your data, referred to as multimodality.\n",
    "There are heuristics and rules-of-thumb for how many bins to use, however the point remains that the act of binning your data introduces bias into your visualizations and this bias is unnecessary as there are more appropriate tools. Before introducing such tools, let's look at plotting histograms with multiple datasets."
   ]
  },
  {
   "cell_type": "markdown",
   "metadata": {
    "tags": []
   },
   "source": [
    "### Histograms and Multiple Datasets"
   ]
  },
  {
   "cell_type": "markdown",
   "metadata": {},
   "source": [
    "There are many reasons to plot multiple datasets on one figure, for example, if you have\n",
    "\n",
    "* multiple populations;\n",
    "* control plus experiment (or several experiments);\n",
    "* data and a model.\n",
    "\n",
    "We'll see all of these in due course but let's consider the first case, of having multiple populations. We'll be working with the Gapminder dataset, which we encountered in Chapter 2."
   ]
  },
  {
   "cell_type": "code",
   "execution_count": null,
   "metadata": {
    "execution": {
     "iopub.execute_input": "2022-04-30T07:02:39.004361Z",
     "iopub.status.busy": "2022-04-30T07:02:39.004247Z",
     "iopub.status.idle": "2022-04-30T07:02:39.017039Z",
     "shell.execute_reply": "2022-04-30T07:02:39.016723Z"
    }
   },
   "outputs": [],
   "source": [
    "from gapminder import gapminder as df\n",
    "df.head()"
   ]
  },
  {
   "cell_type": "code",
   "execution_count": null,
   "metadata": {
    "execution": {
     "iopub.execute_input": "2022-04-30T07:02:39.018889Z",
     "iopub.status.busy": "2022-04-30T07:02:39.018780Z",
     "iopub.status.idle": "2022-04-30T07:02:39.023362Z",
     "shell.execute_reply": "2022-04-30T07:02:39.022998Z"
    }
   },
   "outputs": [],
   "source": [
    "## Create individual dataframes for specific years\n",
    "df_52 = df[df[\"year\"]==1952]\n",
    "df_62 = df[df[\"year\"]==1962]\n",
    "df_72 = df[df[\"year\"]==1972]\n",
    "df_82 = df[df[\"year\"]==1982]\n",
    "df_92 = df[df[\"year\"]==1992]"
   ]
  },
  {
   "cell_type": "markdown",
   "metadata": {},
   "source": [
    "Let's now plot the histogram of life expectancies around the globe for the year 1952:"
   ]
  },
  {
   "cell_type": "code",
   "execution_count": null,
   "metadata": {
    "execution": {
     "iopub.execute_input": "2022-04-30T07:02:39.025504Z",
     "iopub.status.busy": "2022-04-30T07:02:39.025327Z",
     "iopub.status.idle": "2022-04-30T07:02:39.104207Z",
     "shell.execute_reply": "2022-04-30T07:02:39.103779Z"
    }
   },
   "outputs": [],
   "source": [
    "plt.hist(df_52['lifeExp']);"
   ]
  },
  {
   "cell_type": "markdown",
   "metadata": {},
   "source": [
    "An obvious question to ask is if this distribution changes over time. In an effor to answer this question, let's plot the histograms for 1952 and 1962 on the same figure:"
   ]
  },
  {
   "cell_type": "code",
   "execution_count": null,
   "metadata": {
    "execution": {
     "iopub.execute_input": "2022-04-30T07:02:39.106422Z",
     "iopub.status.busy": "2022-04-30T07:02:39.106261Z",
     "iopub.status.idle": "2022-04-30T07:02:39.192935Z",
     "shell.execute_reply": "2022-04-30T07:02:39.192537Z"
    }
   },
   "outputs": [],
   "source": [
    "plt.hist(df_52['lifeExp']);\n",
    "plt.hist(df_62['lifeExp']);"
   ]
  },
  {
   "cell_type": "markdown",
   "metadata": {},
   "source": [
    "As the 1962 histogram covers much of the 1952 histogram, we can add transparency to the figures to counter this:"
   ]
  },
  {
   "cell_type": "code",
   "execution_count": null,
   "metadata": {
    "execution": {
     "iopub.execute_input": "2022-04-30T07:02:39.195045Z",
     "iopub.status.busy": "2022-04-30T07:02:39.194879Z",
     "iopub.status.idle": "2022-04-30T07:02:39.282406Z",
     "shell.execute_reply": "2022-04-30T07:02:39.281967Z"
    }
   },
   "outputs": [],
   "source": [
    "plt.hist(df_52['lifeExp'], alpha=0.5);\n",
    "plt.hist(df_62['lifeExp'], alpha=0.5);"
   ]
  },
  {
   "cell_type": "markdown",
   "metadata": {},
   "source": [
    "Although we can see the trend (which is good!), neither of these figures are particularly attractive and the situation gets worse as we plot the histograms for more years:"
   ]
  },
  {
   "cell_type": "code",
   "execution_count": null,
   "metadata": {
    "execution": {
     "iopub.execute_input": "2022-04-30T07:02:39.284702Z",
     "iopub.status.busy": "2022-04-30T07:02:39.284459Z",
     "iopub.status.idle": "2022-04-30T07:02:39.407387Z",
     "shell.execute_reply": "2022-04-30T07:02:39.407092Z"
    }
   },
   "outputs": [],
   "source": [
    "plt.hist(df_52['lifeExp'], alpha=0.5);\n",
    "plt.hist(df_62['lifeExp'], alpha=0.5);\n",
    "plt.hist(df_72['lifeExp'], alpha=0.5);\n",
    "plt.hist(df_82['lifeExp'], alpha=0.5);\n",
    "plt.hist(df_92['lifeExp'], alpha=0.5);"
   ]
  },
  {
   "cell_type": "markdown",
   "metadata": {},
   "source": [
    "In this case, the histograms are almost useless!"
   ]
  },
  {
   "cell_type": "markdown",
   "metadata": {},
   "source": [
    "Similarly, let's say that we had a control plus experiment and wanted to visualize them together. We'd end up with exactly the same issue when attempting to plot histograms: "
   ]
  },
  {
   "cell_type": "code",
   "execution_count": null,
   "metadata": {
    "execution": {
     "iopub.execute_input": "2022-04-30T07:02:39.410248Z",
     "iopub.status.busy": "2022-04-30T07:02:39.410100Z",
     "iopub.status.idle": "2022-04-30T07:02:39.508582Z",
     "shell.execute_reply": "2022-04-30T07:02:39.508234Z"
    }
   },
   "outputs": [],
   "source": [
    "# generate control data\n",
    "control = np.random.normal(0, 2, 10**4)\n",
    "# generate experiment data\n",
    "experiment = np.random.normal(1, 2, 10**4)\n",
    "# plot both\n",
    "plt.hist(control, alpha=0.5);\n",
    "plt.hist(experiment, alpha = 0.5);"
   ]
  },
  {
   "cell_type": "markdown",
   "metadata": {},
   "source": [
    "We have exactly the same issue as above and this is merely with a single experiment. Often, we will want to plot the results of several experiments together!"
   ]
  },
  {
   "cell_type": "markdown",
   "metadata": {},
   "source": [
    "Having recognized the limitations of the histogram, it's now time to introduce the empirical cumulative distribution function (ECDF), which solves for all the issues we've encountered with the histogram."
   ]
  },
  {
   "cell_type": "markdown",
   "metadata": {},
   "source": [
    "## Empirical cumulative distribution functions (ECDFs)"
   ]
  },
  {
   "cell_type": "markdown",
   "metadata": {},
   "source": [
    "An ECDF is, as an alternative to a histogram, a way to visualize univariate data that is rich in information. It allows us to visualize all of our data and, by doing so, avoids the very real problem of binning bias.\n",
    "\n",
    "On top of this, you can plot\n",
    "\n",
    "- Control plus experiment, \n",
    "- data plus model,\n",
    "- many populations.\n",
    "\n",
    "You can also see multimodality and read off a great deal of important information that histograms do not easily provide, such as percentiles.\n",
    "\n",
    "We encountered the ECDF in passing in Chapter 2 and let's recall the definition:\n",
    "\n",
    "**Definition:** In an ECDF, the x-axis is the range of possible values for the data & for any given x-value, the corresponding y-value is the proportion of data points less than or equal to that x-value."
   ]
  },
  {
   "cell_type": "markdown",
   "metadata": {},
   "source": [
    "Let's define a handy ECDF function that takes in data and outputs $x$ and $y$ data for the ECDF."
   ]
  },
  {
   "cell_type": "code",
   "execution_count": null,
   "metadata": {
    "execution": {
     "iopub.execute_input": "2022-04-30T07:02:39.511278Z",
     "iopub.status.busy": "2022-04-30T07:02:39.511086Z",
     "iopub.status.idle": "2022-04-30T07:02:39.514455Z",
     "shell.execute_reply": "2022-04-30T07:02:39.513889Z"
    }
   },
   "outputs": [],
   "source": [
    "def ecdf(data):\n",
    "    \"\"\"Compute ECDF for a one-dimensional array of measurements.\"\"\"\n",
    "    # Number of data points\n",
    "    n = len(data)\n",
    "\n",
    "    # x-data for the ECDF\n",
    "    x = np.sort(data)\n",
    "\n",
    "    # y-data for the ECDF\n",
    "    y = np.arange(1, n+1) / n\n",
    "\n",
    "    return x, y"
   ]
  },
  {
   "cell_type": "markdown",
   "metadata": {},
   "source": [
    "In future chapters, we'll import of ECDF function from a script of utility functions as follows:\n",
    "```\n",
    "from generative_thinking.utils import ecdf\n",
    "```\n",
    "Let's now see how the ECDF can help with the challenges described above."
   ]
  },
  {
   "cell_type": "markdown",
   "metadata": {},
   "source": [
    "### Reading off percentiles"
   ]
  },
  {
   "cell_type": "markdown",
   "metadata": {},
   "source": [
    "Recall the question we asked when looking at the following histogram: \"what is the probability of seeing 4 or more heads?\""
   ]
  },
  {
   "cell_type": "code",
   "execution_count": null,
   "metadata": {
    "execution": {
     "iopub.execute_input": "2022-04-30T07:02:39.516876Z",
     "iopub.status.busy": "2022-04-30T07:02:39.516664Z",
     "iopub.status.idle": "2022-04-30T07:02:39.598383Z",
     "shell.execute_reply": "2022-04-30T07:02:39.598002Z"
    }
   },
   "outputs": [],
   "source": [
    "# Generate data & plot histogram \n",
    "x = rng.binomial(10, 0.5, 10000)\n",
    "plt.hist(x, density=True, bins=10);"
   ]
  },
  {
   "cell_type": "markdown",
   "metadata": {},
   "source": [
    "To answer this question, we really need to squint, approximate the height of several boxes, and add up those values. Let's now plot the ECDF:"
   ]
  },
  {
   "cell_type": "code",
   "execution_count": null,
   "metadata": {
    "execution": {
     "iopub.execute_input": "2022-04-30T07:02:39.600401Z",
     "iopub.status.busy": "2022-04-30T07:02:39.600295Z",
     "iopub.status.idle": "2022-04-30T07:02:39.718947Z",
     "shell.execute_reply": "2022-04-30T07:02:39.718596Z"
    }
   },
   "outputs": [],
   "source": [
    "# Generate x- and y-data for the ECDF\n",
    "x_flips, y_flips = ecdf(x)\n",
    "\n",
    "# Plot the ECDF\n",
    "plt.plot(x_flips, y_flips, marker='.', linestyle='none');"
   ]
  },
  {
   "cell_type": "markdown",
   "metadata": {},
   "source": [
    "Recalling that, in an ECDF, for any given x-value, the corresponding y-value is the proportion of data points less than or equal to that x-value, we can read off immediately that 80% of the data contains 4 or more heads, meaning that the probability of seeing 4 or more heads is approximately 80%. \n",
    "\n",
    "More generally, we can immediately read off percentiles from the ECDF! We do so by finding the value on the x-axis that corresponds to any given percentile on the y-axis. For example, the 50% percentile (or median) is 5, the 25th percentile 4, and the 75th percentile 6."
   ]
  },
  {
   "cell_type": "markdown",
   "metadata": {},
   "source": [
    "### Multimodality"
   ]
  },
  {
   "cell_type": "markdown",
   "metadata": {},
   "source": [
    "As we saw above, histograms require binning and this can result in binning bias. The following two histograms are of the same data with a different number of bins:"
   ]
  },
  {
   "cell_type": "code",
   "execution_count": null,
   "metadata": {
    "execution": {
     "iopub.execute_input": "2022-04-30T07:02:39.721130Z",
     "iopub.status.busy": "2022-04-30T07:02:39.721007Z",
     "iopub.status.idle": "2022-04-30T07:02:39.877641Z",
     "shell.execute_reply": "2022-04-30T07:02:39.877301Z"
    }
   },
   "outputs": [],
   "source": [
    "rng = np.random.default_rng(42)\n",
    "\n",
    "# Generate data & plot histogram \n",
    "x1 = rng.normal(10, 1, 1000)\n",
    "x2 = rng.normal(14, 1, 300)\n",
    "x_all = np.concatenate((x1, x2))\n",
    "plt.subplot(1, 2, 1)\n",
    "plt.hist(x_all, density=True, bins=50);\n",
    "plt.subplot(1, 2, 2)\n",
    "plt.hist(x_all, density=True, bins=5);"
   ]
  },
  {
   "cell_type": "markdown",
   "metadata": {},
   "source": [
    "There is no binning bias with the ECDF, as it plots ALL of your data. Let's see it in action for the above dataset:"
   ]
  },
  {
   "cell_type": "code",
   "execution_count": null,
   "metadata": {
    "execution": {
     "iopub.execute_input": "2022-04-30T07:02:39.879699Z",
     "iopub.status.busy": "2022-04-30T07:02:39.879573Z",
     "iopub.status.idle": "2022-04-30T07:02:39.954208Z",
     "shell.execute_reply": "2022-04-30T07:02:39.953850Z"
    }
   },
   "outputs": [],
   "source": [
    "# Generate x- and y-data for the ECDF\n",
    "x_flips, y_flips = ecdf(x_all)\n",
    "\n",
    "# Plot the ECDF\n",
    "plt.plot(x_flips, y_flips, marker='.', linestyle='none');"
   ]
  },
  {
   "cell_type": "markdown",
   "metadata": {},
   "source": [
    "Now the question remains: can we see multiple peaks here? The answer is yes but we need to recognize that the peaks in histograms turn into points of inflection in ECDFs (recall that a point of inflection is when a curve changes from being concave up to concave down or vice versa). This is a result of the fact that the ECDF is the cumulative sum of the histogram.\n",
    "\n",
    "We can see points of inflection at around x=10 and x=14 in the above ECDF, which correspond to the modes of the data we generated! Note that the points of inflection are less pronounced than the peaks in the histogram (well, at least in the one in which they are visible) but this is the price we necessarily pay for being able to visualize all of our data free of binning bias."
   ]
  },
  {
   "cell_type": "markdown",
   "metadata": {},
   "source": [
    "### Control + experiment"
   ]
  },
  {
   "cell_type": "markdown",
   "metadata": {},
   "source": [
    "Let's now see how we can plot multiple ECDFs together. Above, we tried to plot control and experiment histograms together, to limited success:\n",
    "\n",
    "\n"
   ]
  },
  {
   "cell_type": "code",
   "execution_count": null,
   "metadata": {
    "execution": {
     "iopub.execute_input": "2022-04-30T07:02:39.956461Z",
     "iopub.status.busy": "2022-04-30T07:02:39.956337Z",
     "iopub.status.idle": "2022-04-30T07:02:40.050278Z",
     "shell.execute_reply": "2022-04-30T07:02:40.049740Z"
    }
   },
   "outputs": [],
   "source": [
    "plt.hist(control, alpha=0.5);\n",
    "plt.hist(experiment, alpha = 0.5);"
   ]
  },
  {
   "cell_type": "markdown",
   "metadata": {},
   "source": [
    "Let's now plot the ECDFs on the same figure:"
   ]
  },
  {
   "cell_type": "code",
   "execution_count": null,
   "metadata": {
    "execution": {
     "iopub.execute_input": "2022-04-30T07:02:40.053281Z",
     "iopub.status.busy": "2022-04-30T07:02:40.053141Z",
     "iopub.status.idle": "2022-04-30T07:02:40.138144Z",
     "shell.execute_reply": "2022-04-30T07:02:40.137176Z"
    }
   },
   "outputs": [],
   "source": [
    "x_c, y_c = ecdf(control)\n",
    "x_e, y_e = ecdf(experiment)\n",
    "plt.plot(x_c, y_c)\n",
    "plt.plot(x_e, y_e);"
   ]
  },
  {
   "cell_type": "markdown",
   "metadata": {},
   "source": [
    "We can immediately see the differences between the control and the experiment, including the percentiles and the modes (remember, points of inflection). We can also see that the variances of both are around the same."
   ]
  },
  {
   "cell_type": "markdown",
   "metadata": {},
   "source": [
    "### Multiple populations"
   ]
  },
  {
   "cell_type": "markdown",
   "metadata": {},
   "source": [
    "Let's now try our hand at plotting the ECDFs for multiple populations. We'll use the Gapminder life expectancy example once again:"
   ]
  },
  {
   "cell_type": "code",
   "execution_count": null,
   "metadata": {
    "execution": {
     "iopub.execute_input": "2022-04-30T07:02:40.148317Z",
     "iopub.status.busy": "2022-04-30T07:02:40.148117Z",
     "iopub.status.idle": "2022-04-30T07:02:40.255097Z",
     "shell.execute_reply": "2022-04-30T07:02:40.254602Z"
    }
   },
   "outputs": [],
   "source": [
    "# Create data for ECDFs\n",
    "x_lifeExp52, y_lifeExp52 = ecdf(df_52[\"lifeExp\"])\n",
    "x_lifeExp62, y_lifeExp62 = ecdf(df_62[\"lifeExp\"])\n",
    "x_lifeExp72, y_lifeExp72 = ecdf(df_72[\"lifeExp\"])\n",
    "x_lifeExp82, y_lifeExp82 = ecdf(df_82[\"lifeExp\"])\n",
    "x_lifeExp92, y_lifeExp92 = ecdf(df_92[\"lifeExp\"])\n",
    "# Plot ECDFs\n",
    "plt.plot(x_lifeExp52, y_lifeExp52, label='1952');\n",
    "plt.plot(x_lifeExp62, y_lifeExp62, label='1962');\n",
    "plt.plot(x_lifeExp72, y_lifeExp72, label='1972');\n",
    "plt.plot(x_lifeExp82, y_lifeExp82, label='1982');\n",
    "plt.plot(x_lifeExp92, y_lifeExp92, label='1992');\n",
    "#plt.xscale(\"log\");\n",
    "plt.legend();"
   ]
  },
  {
   "cell_type": "markdown",
   "metadata": {},
   "source": [
    "We can see the data for each year distinctly, along with being able to see the trend of life expectancy increasing over time!\n",
    "We also mentioned that ECDFs are good for plotting data alongside a model and we'll see how to do this in the next chapter. Before moving on to this, let's look at a selection of other statistical plots that are useful."
   ]
  },
  {
   "cell_type": "markdown",
   "metadata": {},
   "source": [
    "## Other types of statistical plots"
   ]
  },
  {
   "cell_type": "markdown",
   "metadata": {},
   "source": [
    "### Swarmplots"
   ]
  },
  {
   "cell_type": "markdown",
   "metadata": {},
   "source": [
    "Swarmplots (or beeswarm plots), which we briefly encountered earlier, are another way of plotting all of your data points: the y-axis is the variable of interest and the x-axis is used to spread out the data so that it is all visible. Let's see a swarmplot in action for our 1952 life expectancy data:"
   ]
  },
  {
   "cell_type": "code",
   "execution_count": null,
   "metadata": {
    "execution": {
     "iopub.execute_input": "2022-04-30T07:02:40.257322Z",
     "iopub.status.busy": "2022-04-30T07:02:40.257224Z",
     "iopub.status.idle": "2022-04-30T07:02:40.319690Z",
     "shell.execute_reply": "2022-04-30T07:02:40.319291Z"
    }
   },
   "outputs": [],
   "source": [
    "sns.swarmplot(y=\"lifeExp\", data=df_52);"
   ]
  },
  {
   "cell_type": "markdown",
   "metadata": {},
   "source": [
    "We can also use the x-axis to encode a categorical variable. Let's do this now with the above data and the variable 'Continent':"
   ]
  },
  {
   "cell_type": "code",
   "execution_count": null,
   "metadata": {
    "execution": {
     "iopub.execute_input": "2022-04-30T07:02:40.321950Z",
     "iopub.status.busy": "2022-04-30T07:02:40.321854Z",
     "iopub.status.idle": "2022-04-30T07:02:40.406589Z",
     "shell.execute_reply": "2022-04-30T07:02:40.406101Z"
    }
   },
   "outputs": [],
   "source": [
    "sns.swarmplot(x=\"continent\", y=\"lifeExp\", data=df_52);"
   ]
  },
  {
   "cell_type": "markdown",
   "metadata": {},
   "source": [
    "### Box plots"
   ]
  },
  {
   "cell_type": "markdown",
   "metadata": {},
   "source": [
    "Box plots (or box and whisker plots) are in a similar vein to swarmplots, but they do not plot of your data. Rather, they encode summary statistics, such as percentiles and outliers. \n",
    "\n",
    "The line in the middle of each box corresponds to the median of the relevant data, the top and bottom of the box to the 75th and 25th percentiles respectively (also called the 3rd and 1st quartiles, $Q_3$ and $Q_1$, respectively), and the whiskers to the median plus or minus 1.5 times the Interquartile Range ($IQR=Q_3-Q_1$)."
   ]
  },
  {
   "cell_type": "code",
   "execution_count": null,
   "metadata": {
    "execution": {
     "iopub.execute_input": "2022-04-30T07:02:40.409600Z",
     "iopub.status.busy": "2022-04-30T07:02:40.409474Z",
     "iopub.status.idle": "2022-04-30T07:02:40.497687Z",
     "shell.execute_reply": "2022-04-30T07:02:40.497172Z"
    }
   },
   "outputs": [],
   "source": [
    "sns.boxplot(x=\"continent\", y=\"lifeExp\", data=df_52);"
   ]
  },
  {
   "cell_type": "markdown",
   "metadata": {},
   "source": [
    "### Kernel density estimations\n",
    "\n"
   ]
  },
  {
   "cell_type": "markdown",
   "metadata": {},
   "source": [
    "Kernel density estimation (KDE) is a method used to create a \"smooth version of a histogram.\" The intention is often to get a sense of what the underlying probability distribution could look like. Consider the following histogram of life expectancies for countries in 1952:"
   ]
  },
  {
   "cell_type": "code",
   "execution_count": null,
   "metadata": {
    "execution": {
     "iopub.execute_input": "2022-04-30T07:02:40.502397Z",
     "iopub.status.busy": "2022-04-30T07:02:40.501991Z",
     "iopub.status.idle": "2022-04-30T07:02:40.590369Z",
     "shell.execute_reply": "2022-04-30T07:02:40.589943Z"
    }
   },
   "outputs": [],
   "source": [
    "df_52[\"lifeExp\"].plot.hist();"
   ]
  },
  {
   "cell_type": "markdown",
   "metadata": {},
   "source": [
    "A corresponding KDE would look like this:"
   ]
  },
  {
   "cell_type": "code",
   "execution_count": null,
   "metadata": {
    "execution": {
     "iopub.execute_input": "2022-04-30T07:02:40.593065Z",
     "iopub.status.busy": "2022-04-30T07:02:40.592889Z",
     "iopub.status.idle": "2022-04-30T07:02:40.675732Z",
     "shell.execute_reply": "2022-04-30T07:02:40.675000Z"
    }
   },
   "outputs": [],
   "source": [
    "df_52[\"lifeExp\"].plot.kde();"
   ]
  },
  {
   "cell_type": "markdown",
   "metadata": {},
   "source": [
    "Having introduced box plots and KDEs, it is worth mentioning that we can combine them into what is know as a violin plot!"
   ]
  },
  {
   "cell_type": "code",
   "execution_count": null,
   "metadata": {
    "execution": {
     "iopub.execute_input": "2022-04-30T07:02:40.677884Z",
     "iopub.status.busy": "2022-04-30T07:02:40.677746Z",
     "iopub.status.idle": "2022-04-30T07:02:40.776225Z",
     "shell.execute_reply": "2022-04-30T07:02:40.775505Z"
    }
   },
   "outputs": [],
   "source": [
    "sns.violinplot(y=\"lifeExp\", data=df_52);"
   ]
  },
  {
   "cell_type": "markdown",
   "metadata": {},
   "source": [
    "## Wrapping up"
   ]
  },
  {
   "cell_type": "markdown",
   "metadata": {},
   "source": [
    "In this chaper, we have introduced the empirical cumulative distribution function, a method of visualizing our data that avoids many of the pitfalls of histograms. The ECDF will be of great utility in plotting our data and models in the rest of this book and we hope that you'll find it useful in your work! We've also introduced several other visualization tools, such as the swarm plot, the box plot, and kernel density estimation."
   ]
  }
 ],
 "metadata": {
  "kernelspec": {
   "display_name": "Python 3 (ipykernel)",
   "language": "python",
   "name": "python3"
  },
  "language_info": {
   "codemirror_mode": {
    "name": "ipython",
    "version": 3
   },
   "file_extension": ".py",
   "mimetype": "text/x-python",
   "name": "python",
   "nbconvert_exporter": "python",
   "pygments_lexer": "ipython3",
   "version": "3.9.12"
  }
 },
 "nbformat": 4,
 "nbformat_minor": 4
}
