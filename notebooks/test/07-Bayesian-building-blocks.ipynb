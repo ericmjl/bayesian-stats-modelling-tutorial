{
 "cells": [
  {
   "cell_type": "markdown",
   "metadata": {},
   "source": [
    "# The Building Blocks of Bayesian Inference"
   ]
  },
  {
   "cell_type": "markdown",
   "metadata": {},
   "source": [
    "## From Bayes Theorem to Bayesian Inference"
   ]
  },
  {
   "cell_type": "markdown",
   "metadata": {},
   "source": [
    "Now that we have Bayes Theorem and have seen how it can be useful to move from the measurable $P(+, disease)$ to the desired $P(disease, +)$, let's see how it can help us move from $P(D|M)$ to $P(M|D),$ for data $D$ and a model $M.$ "
   ]
  },
  {
   "cell_type": "markdown",
   "metadata": {},
   "source": [
    "To do so, let's return to our example of a biased coin: let's say that we flip a biased coin several times and we want to estimate the probability of heads from the number of heads we saw. First, let's recall Bayes Theorem:\n",
    "\n",
    "$$P(B|A) = \\frac{P(A|B)P(B)}{P(A)}.$$\n",
    "\n",
    "\n",
    "\n",
    "\n",
    "\n",
    "\n"
   ]
  },
  {
   "cell_type": "markdown",
   "metadata": {},
   "source": [
    "We can then calculate the probability of a particular $p=p(H)$ given data $D$ by setting $A$ in Bayes Theorem equal to $p$ and $B$ equal to $D$:\n",
    "\n",
    "$$P(p|D) = \\frac{P(D|p)P(p)}{P(D)} $$\n",
    "\n"
   ]
  },
  {
   "cell_type": "markdown",
   "metadata": {},
   "source": [
    "In this equation, we call $P(p)$ the prior (distribution), $P(D|p)$ the likelihood and $P(p|D)$ the posterior (distribution). The intuition behind the nomenclature is as follows: the prior is the distribution containing our knowledge about $p$ prior to the introduction of the data $D$ & the posterior is the distribution containing our knowledge about $p$ after considering the data $D$.\n",
    "\n",
    "\n",
    "**Essential remark:** we get the whole distribution of $P(p|D)$, not merely a point estimate plus errors bars, such as [95% confidence intervals](http://andrewgelman.com/2018/07/04/4th-july-lets-declare-independence-95/).\n"
   ]
  },
  {
   "cell_type": "markdown",
   "metadata": {},
   "source": [
    "### Note on the term probability:\n",
    "\n",
    "Note that we're _overloading_ the term _probability_ here. In fact, we have 3 distinct usages of the word:\n",
    "\n",
    "\n",
    "- The probability $p$ of seeing a head when flipping a coin;\n",
    "- The resulting binomial probability distribution $P(D|p)$ of seeing the data $D$, given $p$, also called the likelihood;\n",
    "- The prior & posterior probability distributions of $p$, encoding our _uncertainty_ about the value of $p$."
   ]
  },
  {
   "cell_type": "markdown",
   "metadata": {},
   "source": [
    "### Key concept: the prior\n",
    "\n",
    "We only need to know the posterior distribution $P(p|D)$ up to multiplication by a constant at the moment: this is because we really only care about the values of $P(p|D)$ relative to each other – for example, what is the most likely value of $p$? To answer such questions, we only need to know what $P(p|D)$ is proportional to, as a function of $p$. Thus we don’t currently need to worry about the term $P(D)$. In fact,\n",
    "\n",
    "$$P(p|D) \\propto P(D|p)P(p) $$\n",
    "\n",
    "**Note:** What is the prior? Really, what do we know about $p$ before we see any data? Well, as it is a probability, we know that $0\\leq p \\leq1$. If we haven’t flipped any coins yet, we don’t know much else: so it seems logical that all values of $p$ within this interval are equally likely, i.e., $P(p)=1$, for $0\\leq p \\leq1$. This is known as an uninformative prior because it contains little information (there are other uninformative priors we may use in this situation, such as the Jeffreys prior, to be discussed later). People who like to hate on Bayesian inference tend to claim that the need to choose a prior makes Bayesian methods somewhat arbitrary, but as we’ll now see, if you have enough data, the likelihood dominates over the prior and the latter doesn’t matter so much."
   ]
  },
  {
   "cell_type": "markdown",
   "metadata": {},
   "source": [
    "## This is inference!\n",
    "\n",
    "We are now beginning to see how to perform _inference_, that is, infering our degree-of-belief around unobservable quantities from observable data. Let's make this concrete with an example we're familiar with:"
   ]
  },
  {
   "cell_type": "markdown",
   "metadata": {},
   "source": [
    "### Example: Bayesian parameter estimation"
   ]
  },
  {
   "cell_type": "markdown",
   "metadata": {},
   "source": [
    "In order to estimate $p(H),$ let's now generate some coin flips as our data.\n",
    "We'll write a function that takes two arguments, one the probability $p$, the other the number of flips $N.$\n",
    "\n",
    "Before doing so, let's make two notes:\n",
    "\n",
    "- given data $D$ consisting of $n$ coin tosses & $k$ heads, the likelihood function is given by $L:=P(D|p) \\propto p^k(1-p)^{n-k}$ so we have included this in the computation. You don't necessarily need to know this and when using probabilistic programming, you will not need to hard code such likelihoods;\n",
    "- given a uniform prior, which we use in this case, the posterior is proportional to the likelihood."
   ]
  },
  {
   "cell_type": "code",
   "execution_count": 1,
   "metadata": {
    "execution": {
     "iopub.execute_input": "2022-04-30T07:03:17.693804Z",
     "iopub.status.busy": "2022-04-30T07:03:17.693126Z",
     "iopub.status.idle": "2022-04-30T07:03:20.171447Z",
     "shell.execute_reply": "2022-04-30T07:03:20.171089Z"
    }
   },
   "outputs": [
    {
     "name": "stderr",
     "output_type": "stream",
     "text": [
      "/Users/hba/opt/anaconda3/envs/generative-thinking/lib/python3.9/site-packages/aesara/link/jax/dispatch.py:87: UserWarning: JAX omnistaging couldn't be disabled: Disabling of omnistaging is no longer supported in JAX version 0.2.12 and higher: see https://github.com/google/jax/blob/main/design_notes/omnistaging.md.\n",
      "  warnings.warn(f\"JAX omnistaging couldn't be disabled: {e}\")\n",
      "/Users/hba/opt/anaconda3/envs/generative-thinking/lib/python3.9/site-packages/pymc/sampling_jax.py:36: UserWarning: This module is experimental.\n",
      "  warnings.warn(\"This module is experimental.\")\n"
     ]
    }
   ],
   "source": [
    "#| output: false\n",
    "#Import packages\n",
    "import numpy as np\n",
    "import pandas as pd\n",
    "import seaborn as sns\n",
    "import matplotlib.pyplot as plt\n",
    "from ipywidgets import interact\n",
    "from generative_thinking.utils import ecdf\n",
    "#import arviz as az\n",
    "%matplotlib inline\n",
    "sns.set()"
   ]
  },
  {
   "cell_type": "code",
   "execution_count": 2,
   "metadata": {
    "execution": {
     "iopub.execute_input": "2022-04-30T07:03:20.189651Z",
     "iopub.status.busy": "2022-04-30T07:03:20.189499Z",
     "iopub.status.idle": "2022-04-30T07:03:20.193056Z",
     "shell.execute_reply": "2022-04-30T07:03:20.192544Z"
    }
   },
   "outputs": [],
   "source": [
    "def plot_posterior_flip(p=0.6, N=0):\n",
    "    \"\"\"Plot the posterior given a uniform prior; Bernoulli trials\n",
    "    with probability p; sample size N\"\"\"\n",
    "    np.random.seed(42)\n",
    "    # Flip coins \n",
    "    n_successes = np.random.binomial(N, p)\n",
    "    # X-axis for PDF\n",
    "    x = np.linspace(0, 1, 100)\n",
    "    # Prior\n",
    "    prior = 1\n",
    "    # Compute posterior, given the likelihood (analytic form)\n",
    "    posterior = x**n_successes*(1-x)**(N-n_successes)*prior\n",
    "    posterior /= np.max(posterior)  # so that peak always at 1\n",
    "    plt.plot(x, posterior)\n",
    "    plt.xlabel('p')\n",
    "    plt.ylabel('L')\n",
    "\n"
   ]
  },
  {
   "cell_type": "markdown",
   "metadata": {},
   "source": [
    "Lets now use this function to generate data and a posterior for $N=10$ and $p=0.6.$"
   ]
  },
  {
   "cell_type": "code",
   "execution_count": 3,
   "metadata": {
    "execution": {
     "iopub.execute_input": "2022-04-30T07:03:20.194893Z",
     "iopub.status.busy": "2022-04-30T07:03:20.194801Z",
     "iopub.status.idle": "2022-04-30T07:03:20.289664Z",
     "shell.execute_reply": "2022-04-30T07:03:20.289301Z"
    }
   },
   "outputs": [
    {
     "data": {
      "image/png": "[encoded data removed]",
      "text/plain": [
       "<Figure size 432x288 with 1 Axes>"
      ]
     },
     "metadata": {},
     "output_type": "display_data"
    }
   ],
   "source": [
    "plot_posterior_flip(N=10)"
   ]
  },
  {
   "cell_type": "markdown",
   "metadata": {},
   "source": [
    "We'll now generate data and their respective posteriors for combinations of $p=0.5$ and $n\\in\\{5,10,50,100\\}.$ The intention here is to show how the posterior narrows as we collect more and more data, thus providing more certainty around our estimate of $p.$"
   ]
  },
  {
   "cell_type": "code",
   "execution_count": 4,
   "metadata": {
    "execution": {
     "iopub.execute_input": "2022-04-30T07:03:20.291836Z",
     "iopub.status.busy": "2022-04-30T07:03:20.291729Z",
     "iopub.status.idle": "2022-04-30T07:03:20.510168Z",
     "shell.execute_reply": "2022-04-30T07:03:20.509871Z"
    }
   },
   "outputs": [
    {
     "data": {
      "image/png": "[encoded data removed]",
      "text/plain": [
       "<Figure size 432x288 with 4 Axes>"
      ]
     },
     "metadata": {},
     "output_type": "display_data"
    }
   ],
   "source": [
    "plt.subplot(2, 2, 1)\n",
    "plot_posterior_flip(p=0.5, N=5);\n",
    "plt.subplot(2, 2, 2)\n",
    "plot_posterior_flip(p=0.5, N=20);\n",
    "plt.subplot(2, 2, 3)\n",
    "plot_posterior_flip(p=0.5, N=50);\n",
    "plt.subplot(2, 2, 4)\n",
    "plot_posterior_flip(p=0.5, N=100);\n"
   ]
  },
  {
   "cell_type": "markdown",
   "metadata": {},
   "source": [
    "We encourage the reader to check out the github repository and use this code to play around with different values of $p$ and $N.$ Think about what you discover! For example, can you see that the closer $p$ is to $0.5$, the more data you need in order to be certain of your estimate. Why would this be the case?\n",
    "\n",
    "If you're doing this in a Jupyter notebook, you can use the great ipywidget interact to check out the posterior as you generate more and more data (you can also vary $p$):"
   ]
  },
  {
   "cell_type": "code",
   "execution_count": 5,
   "metadata": {
    "execution": {
     "iopub.execute_input": "2022-04-30T07:03:20.512128Z",
     "iopub.status.busy": "2022-04-30T07:03:20.512002Z",
     "iopub.status.idle": "2022-04-30T07:03:20.601937Z",
     "shell.execute_reply": "2022-04-30T07:03:20.601638Z"
    }
   },
   "outputs": [
    {
     "data": {
      "application/vnd.jupyter.widget-view+json": {
       "model_id": "484256761b424eda82e90481627d4844",
       "version_major": 2,
       "version_minor": 0
      },
      "text/plain": [
       "interactive(children=(FloatSlider(value=0.6, description='p', max=1.0, step=0.01), IntSlider(value=0, descript…"
      ]
     },
     "metadata": {},
     "output_type": "display_data"
    }
   ],
   "source": [
    "#| output: false\n",
    "interact(plot_posterior_flip, p=(0, 1, 0.01), N=(0, 1500));"
   ]
  },
  {
   "cell_type": "markdown",
   "metadata": {},
   "source": [
    "Let's now move onto the real-world example we encountered in Chapter 5, that of estimating batting averages for baseball players."
   ]
  },
  {
   "cell_type": "markdown",
   "metadata": {},
   "source": [
    "## Example: batting averages"
   ]
  },
  {
   "cell_type": "markdown",
   "metadata": {},
   "source": [
    "In Chapter 5, we saw that we could use the beta distribution to model what we know about the probability of batting averages in baseball. In particular, given data on many players, we began with the question:\n",
    "\n",
    "> Who is the better batter out of the following? Batter $A$ with 3 out of 10 hits or batter $B$ with 250 out of $1000$ hits. \n",
    "\n",
    "\n",
    "The challenge is that $A$'s batting average is 0.3 and $B$'s is 0.25, but we have much less data to go on with $A$! So we use the Empirical Bayes method, in the following 2 steps:\n",
    "\n",
    "1. Estimate a prior from all of our data;\n",
    "2. Use that distribution as a prior for each individual estimate.\n",
    "\n",
    "Note that the use of data to estimate our prior is not standard in Bayesian inference and we'll get to other methods soon, but it is a useful way to illustrate the important concepts here.\n",
    "\n",
    "Recall that fitting a beta distribution to data involves estimating two shape parameters, $\\alpha$ and $\\beta$, and that we did Step 1 in Chapter 5, as follows:"
   ]
  },
  {
   "cell_type": "code",
   "execution_count": 6,
   "metadata": {
    "execution": {
     "iopub.execute_input": "2022-04-30T07:03:20.604494Z",
     "iopub.status.busy": "2022-04-30T07:03:20.604408Z",
     "iopub.status.idle": "2022-04-30T07:03:20.921048Z",
     "shell.execute_reply": "2022-04-30T07:03:20.920681Z"
    }
   },
   "outputs": [
    {
     "name": "stdout",
     "output_type": "stream",
     "text": [
      "0.25858687458828294 0.0006178976021790106\n",
      "79.97509357607375 229.3023734392516\n"
     ]
    },
    {
     "data": {
      "image/png": "[encoded data removed]",
      "text/plain": [
       "<Figure size 432x288 with 1 Axes>"
      ]
     },
     "metadata": {},
     "output_type": "display_data"
    }
   ],
   "source": [
    "df_batting = pd.read_csv('../../datasets/Batting.csv')\n",
    "df_p = pd.read_csv('../../datasets/Pitching.csv')\n",
    "df_batting.head()\n",
    "\n",
    "dfg = df_batting[['playerID','AB','H']].groupby(['playerID']).sum()\n",
    "dfg['Av'] = dfg['H']/dfg['AB']\n",
    "dfg.reset_index(inplace=True)\n",
    "\n",
    "dfg = dfg[~dfg.playerID.isin(df_p.playerID.unique())]\n",
    "\n",
    "#df = dfg[dfg['Av'] > 0.18]\n",
    "dfg = dfg[dfg['AB'] > 500]\n",
    "dfg.dropna(inplace=True)\n",
    "#plt.hist(dfg['Av'],bins=50);\n",
    "\n",
    "data = dfg['Av']\n",
    "m = np.mean(data)\n",
    "v = np.var(data)\n",
    "print(m, v)\n",
    "\n",
    "a = m**2*((1-m)/v - 1/m)\n",
    "b = a*(1/m - 1)\n",
    "print(a, b)\n",
    "samples = np.random.beta(a, b, 10**3)\n",
    "#plt.hist(samples, bins=50);\n",
    "\n",
    "# Compute ECDFs for sample & model\n",
    "x, y = ecdf(np.array(data))\n",
    "x_theor, y_theor = ecdf(samples)\n",
    "# Plot sample & model ECDFs\n",
    "plt.plot(x_theor, y_theor);\n",
    "plt.plot(x, y, marker='.', linestyle='none', alpha=0.03);"
   ]
  },
  {
   "cell_type": "markdown",
   "metadata": {},
   "source": [
    "So $\\alpha \\approx 80$ and $\\beta \\approx 229.$"
   ]
  },
  {
   "cell_type": "markdown",
   "metadata": {},
   "source": [
    "This was Step 1, estimating a prior from all your data. Then Step 2 is to use that distribution as a prior for each individual estimate:\n",
    "\n",
    "- for any batter with $\\alpha_0$ hits from $\\beta_0$ at bats, we add $\\alpha_0$ to $\\alpha$ and $\\alpha_0 + \\beta_0$ to $\\beta$ (this is a particular and super handy characteristic of the beta distribution)."
   ]
  },
  {
   "cell_type": "markdown",
   "metadata": {},
   "source": [
    "So the posterior for a batter with 3 out of 10 hits is $\\beta(83, 239),$ which has a mode of $82/319 \\simeq 0.26,$ and the posterior for a batter with 250 out of 1000 hits is $\\beta(330, 489),$ which has a mode of $329/817 \\simeq 0.40.$"
   ]
  },
  {
   "cell_type": "markdown",
   "metadata": {},
   "source": [
    "So we see that, using our Empirical Bayes prior, our batting average estimate for batter $B$ with 250 out of $1000$ hits is higher than that for Batter $A$ with 3 out of 10 hits!"
   ]
  },
  {
   "cell_type": "markdown",
   "metadata": {},
   "source": [
    "Let's now do this computation for all our players in the dataset:"
   ]
  },
  {
   "cell_type": "code",
   "execution_count": 7,
   "metadata": {
    "execution": {
     "iopub.execute_input": "2022-04-30T07:03:20.923574Z",
     "iopub.status.busy": "2022-04-30T07:03:20.923439Z",
     "iopub.status.idle": "2022-04-30T07:03:20.931202Z",
     "shell.execute_reply": "2022-04-30T07:03:20.930819Z"
    }
   },
   "outputs": [
    {
     "data": {
      "text/html": [
       "<div>\n",
       "<style scoped>\n",
       "    .dataframe tbody tr th:only-of-type {\n",
       "        vertical-align: middle;\n",
       "    }\n",
       "\n",
       "    .dataframe tbody tr th {\n",
       "        vertical-align: top;\n",
       "    }\n",
       "\n",
       "    .dataframe thead th {\n",
       "        text-align: right;\n",
       "    }\n",
       "</style>\n",
       "<table border=\"1\" class=\"dataframe\">\n",
       "  <thead>\n",
       "    <tr style=\"text-align: right;\">\n",
       "      <th></th>\n",
       "      <th>playerID</th>\n",
       "      <th>AB</th>\n",
       "      <th>H</th>\n",
       "      <th>Av</th>\n",
       "      <th>eb_est</th>\n",
       "    </tr>\n",
       "  </thead>\n",
       "  <tbody>\n",
       "    <tr>\n",
       "      <th>1</th>\n",
       "      <td>aaronha01</td>\n",
       "      <td>12364</td>\n",
       "      <td>3771</td>\n",
       "      <td>0.304998</td>\n",
       "      <td>0.303866</td>\n",
       "    </tr>\n",
       "    <tr>\n",
       "      <th>2</th>\n",
       "      <td>aaronto01</td>\n",
       "      <td>944</td>\n",
       "      <td>216</td>\n",
       "      <td>0.228814</td>\n",
       "      <td>0.236161</td>\n",
       "    </tr>\n",
       "    <tr>\n",
       "      <th>7</th>\n",
       "      <td>abbated01</td>\n",
       "      <td>3044</td>\n",
       "      <td>772</td>\n",
       "      <td>0.253614</td>\n",
       "      <td>0.254072</td>\n",
       "    </tr>\n",
       "    <tr>\n",
       "      <th>11</th>\n",
       "      <td>abbotfr01</td>\n",
       "      <td>513</td>\n",
       "      <td>107</td>\n",
       "      <td>0.208577</td>\n",
       "      <td>0.227387</td>\n",
       "    </tr>\n",
       "    <tr>\n",
       "      <th>13</th>\n",
       "      <td>abbotje01</td>\n",
       "      <td>596</td>\n",
       "      <td>157</td>\n",
       "      <td>0.263423</td>\n",
       "      <td>0.261771</td>\n",
       "    </tr>\n",
       "  </tbody>\n",
       "</table>\n",
       "</div>"
      ],
      "text/plain": [
       "     playerID     AB     H        Av    eb_est\n",
       "1   aaronha01  12364  3771  0.304998  0.303866\n",
       "2   aaronto01    944   216  0.228814  0.236161\n",
       "7   abbated01   3044   772  0.253614  0.254072\n",
       "11  abbotfr01    513   107  0.208577  0.227387\n",
       "13  abbotje01    596   157  0.263423  0.261771"
      ]
     },
     "execution_count": 7,
     "metadata": {},
     "output_type": "execute_result"
    }
   ],
   "source": [
    "dfg['eb_est'] = (dfg['H'] + a)/(dfg['AB'] + a + b)\n",
    "dfg.head()"
   ]
  },
  {
   "cell_type": "markdown",
   "metadata": {},
   "source": [
    "## Wrapping up"
   ]
  },
  {
   "cell_type": "markdown",
   "metadata": {},
   "source": [
    "In this chapter, we have built from Bayes Theorem to introduce the basic building blocks of Bayesian inference:\n",
    "\n",
    "* the prior distribution\n",
    "* the likelihood function, and\n",
    "* the posterior distribution.\n",
    "\n",
    "We have demonstrated how they allow us to move from $P(D|M)$ to $P(M|D),$ for data $D$ and a model $M$, and we have provided two examples:\n",
    "\n",
    "* estimating the probability of heads in biased coin flip,\n",
    "* estimating the batting average of baseball players.\n",
    "\n",
    "In the process, we saw how generating more data can impact the posterior. We also disambiguated the overloaded term _probability_ and discussed certain nuances, such as the choice of the prior. At this point, it is worth saying more about the prior distribution and we will do so in the next chapter. Then we will be ready to use probabilistic programming to build our Bayesian inference machines."
   ]
  }
 ],
 "metadata": {
  "kernelspec": {
   "display_name": "Python 3 (ipykernel)",
   "language": "python",
   "name": "python3"
  },
  "language_info": {
   "codemirror_mode": {
    "name": "ipython",
    "version": 3
   },
   "file_extension": ".py",
   "mimetype": "text/x-python",
   "name": "python",
   "nbconvert_exporter": "python",
   "pygments_lexer": "ipython3",
   "version": "3.9.12"
  },
  "widgets": {
   "application/vnd.jupyter.widget-state+json": {
    "state": {
     "484256761b424eda82e90481627d4844": {
      "model_module": "@jupyter-widgets/controls",
      "model_module_version": "1.5.0",
      "model_name": "VBoxModel",
      "state": {
       "_dom_classes": [
        "widget-interact"
       ],
       "_model_module": "@jupyter-widgets/controls",
       "_model_module_version": "1.5.0",
       "_model_name": "VBoxModel",
       "_view_count": null,
       "_view_module": "@jupyter-widgets/controls",
       "_view_module_version": "1.5.0",
       "_view_name": "VBoxView",
       "box_style": "",
       "children": [
        "IPY_MODEL_823f10b8ff9e485cbe69e85e936714bf",
        "IPY_MODEL_4b4ef7c6b1ce45368f24bf50d0e83283",
        "IPY_MODEL_5f9b41ada1a14a3e8923e888e3389b13"
       ],
       "layout": "IPY_MODEL_5cb4f692fcf54224a083b522b0ce51c0"
      }
     },
     "4b4ef7c6b1ce45368f24bf50d0e83283": {
      "model_module": "@jupyter-widgets/controls",
      "model_module_version": "1.5.0",
      "model_name": "IntSliderModel",
      "state": {
       "_dom_classes": [],
       "_model_module": "@jupyter-widgets/controls",
       "_model_module_version": "1.5.0",
       "_model_name": "IntSliderModel",
       "_view_count": null,
       "_view_module": "@jupyter-widgets/controls",
       "_view_module_version": "1.5.0",
       "_view_name": "IntSliderView",
       "continuous_update": true,
       "description": "N",
       "description_tooltip": null,
       "disabled": false,
       "layout": "IPY_MODEL_e1bfdd27da4644d2a77376fa4da98e86",
       "max": 1500,
       "min": 0,
       "orientation": "horizontal",
       "readout": true,
       "readout_format": "d",
       "step": 1,
       "style": "IPY_MODEL_5315da0246cf43f797c06a2b0e99868d",
       "value": 0
      }
     },
     "5315da0246cf43f797c06a2b0e99868d": {
      "model_module": "@jupyter-widgets/controls",
      "model_module_version": "1.5.0",
      "model_name": "SliderStyleModel",
      "state": {
       "_model_module": "@jupyter-widgets/controls",
       "_model_module_version": "1.5.0",
       "_model_name": "SliderStyleModel",
       "_view_count": null,
       "_view_module": "@jupyter-widgets/base",
       "_view_module_version": "1.2.0",
       "_view_name": "StyleView",
       "description_width": "",
       "handle_color": null
      }
     },
     "5cb4f692fcf54224a083b522b0ce51c0": {
      "model_module": "@jupyter-widgets/base",
      "model_module_version": "1.2.0",
      "model_name": "LayoutModel",
      "state": {
       "_model_module": "@jupyter-widgets/base",
       "_model_module_version": "1.2.0",
       "_model_name": "LayoutModel",
       "_view_count": null,
       "_view_module": "@jupyter-widgets/base",
       "_view_module_version": "1.2.0",
       "_view_name": "LayoutView",
       "align_content": null,
       "align_items": null,
       "align_self": null,
       "border": null,
       "bottom": null,
       "display": null,
       "flex": null,
       "flex_flow": null,
       "grid_area": null,
       "grid_auto_columns": null,
       "grid_auto_flow": null,
       "grid_auto_rows": null,
       "grid_column": null,
       "grid_gap": null,
       "grid_row": null,
       "grid_template_areas": null,
       "grid_template_columns": null,
       "grid_template_rows": null,
       "height": null,
       "justify_content": null,
       "justify_items": null,
       "left": null,
       "margin": null,
       "max_height": null,
       "max_width": null,
       "min_height": null,
       "min_width": null,
       "object_fit": null,
       "object_position": null,
       "order": null,
       "overflow": null,
       "overflow_x": null,
       "overflow_y": null,
       "padding": null,
       "right": null,
       "top": null,
       "visibility": null,
       "width": null
      }
     },
     "5f9b41ada1a14a3e8923e888e3389b13": {
      "model_module": "@jupyter-widgets/output",
      "model_module_version": "1.0.0",
      "model_name": "OutputModel",
      "state": {
       "_dom_classes": [],
       "_model_module": "@jupyter-widgets/output",
       "_model_module_version": "1.0.0",
       "_model_name": "OutputModel",
       "_view_count": null,
       "_view_module": "@jupyter-widgets/output",
       "_view_module_version": "1.0.0",
       "_view_name": "OutputView",
       "layout": "IPY_MODEL_802f86fdb9bd4efb973a72204091aad2",
       "msg_id": "",
       "outputs": [
        {
         "data": {
          "image/png": "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\n",
          "text/plain": "<Figure size 432x288 with 1 Axes>"
         },
         "metadata": {},
         "output_type": "display_data"
        }
       ]
      }
     },
     "65af1e4489b24325a650f445cc17cf67": {
      "model_module": "@jupyter-widgets/controls",
      "model_module_version": "1.5.0",
      "model_name": "SliderStyleModel",
      "state": {
       "_model_module": "@jupyter-widgets/controls",
       "_model_module_version": "1.5.0",
       "_model_name": "SliderStyleModel",
       "_view_count": null,
       "_view_module": "@jupyter-widgets/base",
       "_view_module_version": "1.2.0",
       "_view_name": "StyleView",
       "description_width": "",
       "handle_color": null
      }
     },
     "802f86fdb9bd4efb973a72204091aad2": {
      "model_module": "@jupyter-widgets/base",
      "model_module_version": "1.2.0",
      "model_name": "LayoutModel",
      "state": {
       "_model_module": "@jupyter-widgets/base",
       "_model_module_version": "1.2.0",
       "_model_name": "LayoutModel",
       "_view_count": null,
       "_view_module": "@jupyter-widgets/base",
       "_view_module_version": "1.2.0",
       "_view_name": "LayoutView",
       "align_content": null,
       "align_items": null,
       "align_self": null,
       "border": null,
       "bottom": null,
       "display": null,
       "flex": null,
       "flex_flow": null,
       "grid_area": null,
       "grid_auto_columns": null,
       "grid_auto_flow": null,
       "grid_auto_rows": null,
       "grid_column": null,
       "grid_gap": null,
       "grid_row": null,
       "grid_template_areas": null,
       "grid_template_columns": null,
       "grid_template_rows": null,
       "height": null,
       "justify_content": null,
       "justify_items": null,
       "left": null,
       "margin": null,
       "max_height": null,
       "max_width": null,
       "min_height": null,
       "min_width": null,
       "object_fit": null,
       "object_position": null,
       "order": null,
       "overflow": null,
       "overflow_x": null,
       "overflow_y": null,
       "padding": null,
       "right": null,
       "top": null,
       "visibility": null,
       "width": null
      }
     },
     "823f10b8ff9e485cbe69e85e936714bf": {
      "model_module": "@jupyter-widgets/controls",
      "model_module_version": "1.5.0",
      "model_name": "FloatSliderModel",
      "state": {
       "_dom_classes": [],
       "_model_module": "@jupyter-widgets/controls",
       "_model_module_version": "1.5.0",
       "_model_name": "FloatSliderModel",
       "_view_count": null,
       "_view_module": "@jupyter-widgets/controls",
       "_view_module_version": "1.5.0",
       "_view_name": "FloatSliderView",
       "continuous_update": true,
       "description": "p",
       "description_tooltip": null,
       "disabled": false,
       "layout": "IPY_MODEL_dca1ecf617d74ecaa24db7c9f3105135",
       "max": 1,
       "min": 0,
       "orientation": "horizontal",
       "readout": true,
       "readout_format": ".2f",
       "step": 0.01,
       "style": "IPY_MODEL_65af1e4489b24325a650f445cc17cf67",
       "value": 0.6
      }
     },
     "dca1ecf617d74ecaa24db7c9f3105135": {
      "model_module": "@jupyter-widgets/base",
      "model_module_version": "1.2.0",
      "model_name": "LayoutModel",
      "state": {
       "_model_module": "@jupyter-widgets/base",
       "_model_module_version": "1.2.0",
       "_model_name": "LayoutModel",
       "_view_count": null,
       "_view_module": "@jupyter-widgets/base",
       "_view_module_version": "1.2.0",
       "_view_name": "LayoutView",
       "align_content": null,
       "align_items": null,
       "align_self": null,
       "border": null,
       "bottom": null,
       "display": null,
       "flex": null,
       "flex_flow": null,
       "grid_area": null,
       "grid_auto_columns": null,
       "grid_auto_flow": null,
       "grid_auto_rows": null,
       "grid_column": null,
       "grid_gap": null,
       "grid_row": null,
       "grid_template_areas": null,
       "grid_template_columns": null,
       "grid_template_rows": null,
       "height": null,
       "justify_content": null,
       "justify_items": null,
       "left": null,
       "margin": null,
       "max_height": null,
       "max_width": null,
       "min_height": null,
       "min_width": null,
       "object_fit": null,
       "object_position": null,
       "order": null,
       "overflow": null,
       "overflow_x": null,
       "overflow_y": null,
       "padding": null,
       "right": null,
       "top": null,
       "visibility": null,
       "width": null
      }
     },
     "e1bfdd27da4644d2a77376fa4da98e86": {
      "model_module": "@jupyter-widgets/base",
      "model_module_version": "1.2.0",
      "model_name": "LayoutModel",
      "state": {
       "_model_module": "@jupyter-widgets/base",
       "_model_module_version": "1.2.0",
       "_model_name": "LayoutModel",
       "_view_count": null,
       "_view_module": "@jupyter-widgets/base",
       "_view_module_version": "1.2.0",
       "_view_name": "LayoutView",
       "align_content": null,
       "align_items": null,
       "align_self": null,
       "border": null,
       "bottom": null,
       "display": null,
       "flex": null,
       "flex_flow": null,
       "grid_area": null,
       "grid_auto_columns": null,
       "grid_auto_flow": null,
       "grid_auto_rows": null,
       "grid_column": null,
       "grid_gap": null,
       "grid_row": null,
       "grid_template_areas": null,
       "grid_template_columns": null,
       "grid_template_rows": null,
       "height": null,
       "justify_content": null,
       "justify_items": null,
       "left": null,
       "margin": null,
       "max_height": null,
       "max_width": null,
       "min_height": null,
       "min_width": null,
       "object_fit": null,
       "object_position": null,
       "order": null,
       "overflow": null,
       "overflow_x": null,
       "overflow_y": null,
       "padding": null,
       "right": null,
       "top": null,
       "visibility": null,
       "width": null
      }
     }
    },
    "version_major": 2,
    "version_minor": 0
   }
  }
 },
 "nbformat": 4,
 "nbformat_minor": 4
}
