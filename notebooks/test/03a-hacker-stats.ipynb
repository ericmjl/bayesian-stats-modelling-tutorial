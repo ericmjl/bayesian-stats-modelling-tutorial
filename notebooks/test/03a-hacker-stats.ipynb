{
 "cells": [
  {
   "cell_type": "markdown",
   "metadata": {},
   "source": [
    "# Simulating Data and Hacker Statistics"
   ]
  },
  {
   "cell_type": "markdown",
   "metadata": {},
   "source": [
    "In Chapters 1 & 2, we have been introduced to both probability and data. In this chapter, we'll learn how to simulate data and delve into how doing so can help us think both probabilistically and statistically. We'll simulate data using `numpy` but all the techniques are library-agnostic."
   ]
  },
  {
   "cell_type": "markdown",
   "metadata": {},
   "source": [
    "As we have seen, science is deeply interested in questions of the form:\n",
    "\n",
    "- Given data collected in the world, what can we say about the data-generating process(es)? That is, what is $P(M|D)$, the probability of any model $M$, given the observed/collected data $D$?"
   ]
  },
  {
   "cell_type": "markdown",
   "metadata": {},
   "source": [
    "On the other hand, statistics and probability are better at answering questions such as:\n",
    "\n",
    "- Given the model $M$, what is the probability $P(D|M)$ of observing the data $D$?"
   ]
  },
  {
   "cell_type": "markdown",
   "metadata": {},
   "source": [
    "Recall that it will be Bayesian inference that eventually allows us to move between $P(D|M)$ and $P(M|D)$."
   ]
  },
  {
   "cell_type": "markdown",
   "metadata": {},
   "source": [
    "Before jumping into this, it will be instructive to delve into probability distributions and the data-generating processes that correspond to them.\n",
    "\n",
    "To this end, we'll begin by exploring how simulation and hacker statistics can help us answer questions of the second kind above: knowing the model, what is the probability of seeing certain data? This will then allow to think about how to answer questions of the first kind, those of deep interest to science."
   ]
  },
  {
   "cell_type": "markdown",
   "metadata": {},
   "source": [
    "## Simulating our first probabilities: click-through rates and (biased) coin flips"
   ]
  },
  {
   "cell_type": "markdown",
   "metadata": {},
   "source": [
    "For a first example, let's consider a common concept in data science, that of website click-through rates.\n",
    "\n",
    "**The Question:** Let's say that a website has a click-through rate (CTR) of 50%, that is, we expect 50% of people from the general population to click through. If we drew 1,000 people at random from the general population, can we calculate the likelihood of $x$ number of people clicking through?\n",
    "\n",
    "We can simulate this using `numpy`'s random number generator. To do so, first note we can use `np.random.default_rng.random()` to randomly select floats between 0 and 1 (known as the _uniform distribution_). Below, we do so and plot a histogram:"
   ]
  },
  {
   "cell_type": "code",
   "execution_count": 1,
   "metadata": {
    "execution": {
     "iopub.execute_input": "2022-04-30T07:02:28.532144Z",
     "iopub.status.busy": "2022-04-30T07:02:28.530722Z",
     "iopub.status.idle": "2022-04-30T07:02:29.575370Z",
     "shell.execute_reply": "2022-04-30T07:02:29.574875Z"
    }
   },
   "outputs": [],
   "source": [
    "#Import packages\n",
    "import numpy as np\n",
    "import pandas as pd\n",
    "import seaborn as sns\n",
    "import matplotlib.pyplot as plt\n",
    "%matplotlib inline\n",
    "sns.set()"
   ]
  },
  {
   "cell_type": "code",
   "execution_count": 2,
   "metadata": {
    "execution": {
     "iopub.execute_input": "2022-04-30T07:02:29.577691Z",
     "iopub.status.busy": "2022-04-30T07:02:29.577556Z",
     "iopub.status.idle": "2022-04-30T07:02:29.721572Z",
     "shell.execute_reply": "2022-04-30T07:02:29.721188Z"
    }
   },
   "outputs": [
    {
     "data": {
      "image/png": "[encoded data removed]",
      "text/plain": [
       "<Figure size 432x288 with 1 Axes>"
      ]
     },
     "metadata": {},
     "output_type": "display_data"
    }
   ],
   "source": [
    "# Draw 1,000 samples from uniform & plot results\n",
    "rng = np.random.default_rng()\n",
    "x = rng.random(1000)\n",
    "plt.hist(x);"
   ]
  },
  {
   "cell_type": "markdown",
   "metadata": {},
   "source": [
    "To then simulate the sampling from the population, we check whether each float was greater or less than 0.5. For each float, if it is less than or equal to 0.5, we say the person clicked. If it is greater than 0.5, we say that they didn't click. We also print out the computed number of clicks:"
   ]
  },
  {
   "cell_type": "code",
   "execution_count": 3,
   "metadata": {
    "execution": {
     "iopub.execute_input": "2022-04-30T07:02:29.740173Z",
     "iopub.status.busy": "2022-04-30T07:02:29.739849Z",
     "iopub.status.idle": "2022-04-30T07:02:29.745671Z",
     "shell.execute_reply": "2022-04-30T07:02:29.745296Z"
    }
   },
   "outputs": [
    {
     "data": {
      "text/plain": [
       "'Number of clicks = 508'"
      ]
     },
     "execution_count": 3,
     "metadata": {},
     "output_type": "execute_result"
    }
   ],
   "source": [
    "# Computed how many people click\n",
    "clicks = x <= 0.5\n",
    "n_clicks = sum(clicks)\n",
    "f\"Number of clicks = {n_clicks}\""
   ]
  },
  {
   "cell_type": "markdown",
   "metadata": {},
   "source": [
    "This is the total number of clicks but we're often more interested in the proportion of clicks, as it doesn't depend on the sample size. So let's compute that now:"
   ]
  },
  {
   "cell_type": "code",
   "execution_count": 4,
   "metadata": {
    "execution": {
     "iopub.execute_input": "2022-04-30T07:02:29.747649Z",
     "iopub.status.busy": "2022-04-30T07:02:29.747527Z",
     "iopub.status.idle": "2022-04-30T07:02:29.751496Z",
     "shell.execute_reply": "2022-04-30T07:02:29.751148Z"
    }
   },
   "outputs": [
    {
     "data": {
      "text/plain": [
       "'Proportion who clicked = 0.508'"
      ]
     },
     "execution_count": 4,
     "metadata": {},
     "output_type": "execute_result"
    }
   ],
   "source": [
    "# Computed proportion of people who clicked\n",
    "f\"Proportion who clicked = {n_clicks/len(clicks)}\""
   ]
  },
  {
   "cell_type": "markdown",
   "metadata": {},
   "source": [
    "Now we've just computed the number and proportion of people who clicked, given a particular CTR. Essentially, we've performed a mini (computational) experiment! However, as we've mentioned, scientific questions are often the reverse of this. In this case, the question would be: given the data above and the measured proportion of people who clicked, what can you say about the click-through rate?\n",
    "\n",
    "This question contains several sub-questions, such  as\n",
    "\n",
    "* What would your \"best\" estimate of the CTR be? and\n",
    "* How confident would you be of your estimate?\n",
    "\n",
    "Perhaps your answer to the first question is \"the proportion of people who clicked\" and to the second \"I'm not certain but I'd be more confident the more samples there were.\" If so, you're on the right track and we'll see why soon. Part of the power of Bayes, as we'll see, is that it allows us to recover not merely the best estimate and confidence intervals around it, but also the entire distribution of possible values and their likelihoods."
   ]
  },
  {
   "cell_type": "markdown",
   "metadata": {},
   "source": [
    "### Different click-through rates"
   ]
  },
  {
   "cell_type": "markdown",
   "metadata": {},
   "source": [
    "One cool aspect of simulation techniques is that we can plug in different values and see the differences in results immediately. Let's see this in action by tweaking the above code to perform the same calculation for a CTR of 0.7. Once again, we'll compute the number of people who click, along with the proportion:"
   ]
  },
  {
   "cell_type": "code",
   "execution_count": 5,
   "metadata": {
    "execution": {
     "iopub.execute_input": "2022-04-30T07:02:29.753466Z",
     "iopub.status.busy": "2022-04-30T07:02:29.753373Z",
     "iopub.status.idle": "2022-04-30T07:02:29.758281Z",
     "shell.execute_reply": "2022-04-30T07:02:29.757948Z"
    }
   },
   "outputs": [
    {
     "name": "stdout",
     "output_type": "stream",
     "text": [
      "Number of clicks = 691\n",
      "Proportion who clicked = 0.691\n"
     ]
    }
   ],
   "source": [
    "x = rng.random(1000)\n",
    "clicks = x <= 0.7\n",
    "n_clicks = sum(clicks)\n",
    "print(f\"Number of clicks = {n_clicks}\")\n",
    "print(f\"Proportion who clicked = {n_clicks/len(clicks)}\")"
   ]
  },
  {
   "cell_type": "markdown",
   "metadata": {},
   "source": [
    "This model, in which the outcome is binary (that is, there are two options) and each outcome occurs with a certain probability, is known as the  _biased coin flip_ and is used to model lots of real-world phenomena, such as click-through or not, affected by disease or not, and bought a product or not, among many others. It's known as the _biased coin flip_ because it can be used to model the result of flipping a coin (heads or tails) when the probability of heads is not necessarily 0.5 (hence the \"biased\")."
   ]
  },
  {
   "cell_type": "markdown",
   "metadata": {},
   "source": [
    "### Pseudo-random number generators and setting the seed"
   ]
  },
  {
   "cell_type": "markdown",
   "metadata": {},
   "source": [
    "Reproducibility is fundamental to the scientific. Now what does reproducibility mean in the context of simulation and hacker statistics? Firstly, it would require that, were we to send you our code, that you could run it and get the same results. It also means that were we to run the same code twice, we'd get the same results. Let's run the most recent cell and see if we do:"
   ]
  },
  {
   "cell_type": "code",
   "execution_count": 6,
   "metadata": {
    "execution": {
     "iopub.execute_input": "2022-04-30T07:02:29.760279Z",
     "iopub.status.busy": "2022-04-30T07:02:29.760164Z",
     "iopub.status.idle": "2022-04-30T07:02:29.764685Z",
     "shell.execute_reply": "2022-04-30T07:02:29.764365Z"
    }
   },
   "outputs": [
    {
     "name": "stdout",
     "output_type": "stream",
     "text": [
      "Number of clicks = 700\n",
      "Proportion who clicked = 0.7\n"
     ]
    }
   ],
   "source": [
    "x = rng.random(1000)\n",
    "clicks = x <= 0.7\n",
    "n_clicks = sum(clicks)\n",
    "print(f\"Number of clicks = {n_clicks}\")\n",
    "print(f\"Proportion who clicked = {n_clicks/len(clicks)}\")"
   ]
  },
  {
   "cell_type": "markdown",
   "metadata": {},
   "source": [
    "We do not! This is unacceptable for science. So how do we ensure that we're able to reproduce our results?\n",
    "\n",
    "To answer this question, let's spend a minute understanding a bit more about how, `numpy`, Python, and our computer generate random numbers. In truth, they don't quite. Rather, they generate pseudorandom numbers using what's known as a PRNG (pseudorandom number generator). These numbers are actually determined deterministically _but_ they have many statistical properties of randomly generated numbers that are suitable for our purposes. In fact, the sequence of numbers generated by any PRNG is uniquely determined by an initial value that we can set, known as the _seed_, for obvious reasons.\n",
    "\n",
    "All this is to say that, once we set the seed with `numpy`, our results will then be reproducible! So let's now see this in action by setting the seed, performing the same CTR experiment as above, then setting the seed to the same value and re-performing the experiment:"
   ]
  },
  {
   "cell_type": "code",
   "execution_count": 7,
   "metadata": {
    "execution": {
     "iopub.execute_input": "2022-04-30T07:02:29.766406Z",
     "iopub.status.busy": "2022-04-30T07:02:29.766297Z",
     "iopub.status.idle": "2022-04-30T07:02:29.771426Z",
     "shell.execute_reply": "2022-04-30T07:02:29.771114Z"
    }
   },
   "outputs": [
    {
     "name": "stdout",
     "output_type": "stream",
     "text": [
      "Number of clicks = 696\n",
      "Proportion who clicked = 0.696\n"
     ]
    }
   ],
   "source": [
    "# Set seed\n",
    "rng = np.random.default_rng(42)\n",
    "x = rng.random(1000)\n",
    "clicks = x <= 0.7\n",
    "n_clicks = sum(clicks)\n",
    "print(f\"Number of clicks = {n_clicks}\")\n",
    "print(f\"Proportion who clicked = {n_clicks/len(clicks)}\")"
   ]
  },
  {
   "cell_type": "markdown",
   "metadata": {},
   "source": [
    "That's once. Let's try it again and see if we get the same result. 🤞"
   ]
  },
  {
   "cell_type": "code",
   "execution_count": 8,
   "metadata": {
    "execution": {
     "iopub.execute_input": "2022-04-30T07:02:29.773377Z",
     "iopub.status.busy": "2022-04-30T07:02:29.773165Z",
     "iopub.status.idle": "2022-04-30T07:02:29.778030Z",
     "shell.execute_reply": "2022-04-30T07:02:29.777706Z"
    }
   },
   "outputs": [
    {
     "name": "stdout",
     "output_type": "stream",
     "text": [
      "Number of clicks = 696\n",
      "Proportion who clicked = 0.696\n"
     ]
    }
   ],
   "source": [
    "# Set seed\n",
    "rng = np.random.default_rng(42)\n",
    "x = rng.random(1000)\n",
    "clicks = x <= 0.7\n",
    "n_clicks = sum(clicks)\n",
    "print(f\"Number of clicks = {n_clicks}\")\n",
    "print(f\"Proportion who clicked = {n_clicks/len(clicks)}\")"
   ]
  },
  {
   "cell_type": "markdown",
   "metadata": {},
   "source": [
    "And we do! Now all of our results are reproducible, as are yours."
   ]
  },
  {
   "cell_type": "markdown",
   "metadata": {},
   "source": [
    "## In which we introduce the binomial distribution to simulate coin flips"
   ]
  },
  {
   "cell_type": "markdown",
   "metadata": {},
   "source": [
    "In the above, we have used the uniform distribution to sample from a series of biased coin flips. We now want to introduce you to another distribution that you can also use to do the same and with greater flexibility: the **binomial distribution**.\n",
    "\n",
    "The **binomial distribution** with parameters $n$ and $p$ is defined as the probability distribution of\n",
    "\n",
    "> the number of heads seen when flipping a coin $n$ times when  with $p(heads)=p$."
   ]
  },
  {
   "cell_type": "markdown",
   "metadata": {},
   "source": [
    "**Note** that this distribution essentially tells the **story** of a general model in the following sense: if we believe that they underlying process generating the observed data has a binary outcome (affected by disease or not, head or not, 0 or 1, clicked through or not), and that one the of the two outcomes occurs with probability $p$, then the probability of seeing a particular outcome is given by the **binomial distribution** with parameters $n$ and $p$."
   ]
  },
  {
   "cell_type": "markdown",
   "metadata": {},
   "source": [
    "Any process that matches the coin flip story is a Binomial process. Note that you'll see such coin flips also referred to as Bernoulli trials in the literature. So we can also formulate the story of the Binomial distribution as\n",
    "\n",
    "> the number $r$ of successes in $n$ Bernoulli trials with probability $p$ of success, is Binomially distributed. "
   ]
  },
  {
   "cell_type": "markdown",
   "metadata": {},
   "source": [
    "We'll now use the binomial distribution to answer the same question as above: If P(heads) = 0.7 and we flip the coin ten times, how many heads will come up? We'll also set the seed to ensure reproducible results."
   ]
  },
  {
   "cell_type": "code",
   "execution_count": 9,
   "metadata": {
    "execution": {
     "iopub.execute_input": "2022-04-30T07:02:29.780203Z",
     "iopub.status.busy": "2022-04-30T07:02:29.780083Z",
     "iopub.status.idle": "2022-04-30T07:02:29.783392Z",
     "shell.execute_reply": "2022-04-30T07:02:29.783032Z"
    }
   },
   "outputs": [
    {
     "data": {
      "text/plain": [
       "6"
      ]
     },
     "execution_count": 9,
     "metadata": {},
     "output_type": "execute_result"
    }
   ],
   "source": [
    "# Set seed\n",
    "rng = np.random.default_rng(42)\n",
    "\n",
    "# Simulate one run of flipping the biased coin 10 times\n",
    "rng.binomial(10, 0.7)"
   ]
  },
  {
   "cell_type": "markdown",
   "metadata": {},
   "source": [
    "### Simulating many times to get the binomial distribution\n",
    "\n",
    "In the above, we have simulated the scenario once. But this only tells us one potential outcome. To see how likely it is to get $n$ heads, for example, we need to simulate it a lot of times and check what proportion of simulations ended up with $n$ heads. To do this, we can handily use the 3rd positional argument of `np.random.binomial()` as follows:"
   ]
  },
  {
   "cell_type": "code",
   "execution_count": 10,
   "metadata": {
    "execution": {
     "iopub.execute_input": "2022-04-30T07:02:29.785134Z",
     "iopub.status.busy": "2022-04-30T07:02:29.785026Z",
     "iopub.status.idle": "2022-04-30T07:02:29.863767Z",
     "shell.execute_reply": "2022-04-30T07:02:29.863403Z"
    }
   },
   "outputs": [
    {
     "data": {
      "image/png": "[encoded data removed]",
      "text/plain": [
       "<Figure size 432x288 with 1 Axes>"
      ]
     },
     "metadata": {},
     "output_type": "display_data"
    }
   ],
   "source": [
    "# Simulate 10,000 run of flipping the biased coin 10 times\n",
    "x = rng.binomial(10, 0.7, 10000)\n",
    "\n",
    "# Plot normalized histogram of results\n",
    "plt.hist(x, density=True, bins=9);"
   ]
  },
  {
   "cell_type": "markdown",
   "metadata": {},
   "source": [
    "It is always important to take a look at your plots and extract information from them. So what can we see here? We can see that the number of heads ranges from 2 to 10 and that just over 25% of the runs have 7 heads, which accords with our intuition, knowing that P(heads) = 0.7."
   ]
  },
  {
   "cell_type": "markdown",
   "metadata": {},
   "source": [
    "### Answering more questions about the model"
   ]
  },
  {
   "cell_type": "markdown",
   "metadata": {},
   "source": [
    "Using such techniques, we can ask (and answer!) very many more questions that may be of interest to us. For example, we may not want the entire distribution, as above. We may want to know the probability of getting a certain number of heads. For example, we can ask the question: If I flip a biased coin ($P(H)=0.3$) 20 times, what is the probability of 5 or more heads? And we can answer it by simulating the experiment, as follows:"
   ]
  },
  {
   "cell_type": "code",
   "execution_count": 11,
   "metadata": {
    "execution": {
     "iopub.execute_input": "2022-04-30T07:02:29.866030Z",
     "iopub.status.busy": "2022-04-30T07:02:29.865906Z",
     "iopub.status.idle": "2022-04-30T07:02:29.887646Z",
     "shell.execute_reply": "2022-04-30T07:02:29.887335Z"
    }
   },
   "outputs": [
    {
     "data": {
      "text/plain": [
       "0.7628"
      ]
     },
     "execution_count": 11,
     "metadata": {},
     "output_type": "execute_result"
    }
   ],
   "source": [
    "sum(rng.binomial(20, 0.3, 10000) >= 5)/10000"
   ]
  },
  {
   "cell_type": "markdown",
   "metadata": {},
   "source": [
    "Perhaps you discover that your coin is actually fair (P(heads) = 0.5) and your question becomes:\n",
    "If I flip a fair coin 20 times, what is the probability of 5 or more heads? You can then simulate the answer as follows:"
   ]
  },
  {
   "cell_type": "code",
   "execution_count": 12,
   "metadata": {
    "execution": {
     "iopub.execute_input": "2022-04-30T07:02:29.889670Z",
     "iopub.status.busy": "2022-04-30T07:02:29.889550Z",
     "iopub.status.idle": "2022-04-30T07:02:29.911343Z",
     "shell.execute_reply": "2022-04-30T07:02:29.910638Z"
    }
   },
   "outputs": [
    {
     "data": {
      "text/plain": [
       "0.9937"
      ]
     },
     "execution_count": 12,
     "metadata": {},
     "output_type": "execute_result"
    }
   ],
   "source": [
    "sum(rng.binomial(20,0.5,10000) >= 5)/10000"
   ]
  },
  {
   "cell_type": "markdown",
   "metadata": {},
   "source": [
    "Let's say that you wanted the entire distribution of possible number of heads when flipping a fair coin 10 times. You can simulate the experiment and plot the histogram in this manner:"
   ]
  },
  {
   "cell_type": "code",
   "execution_count": 13,
   "metadata": {
    "execution": {
     "iopub.execute_input": "2022-04-30T07:02:29.913712Z",
     "iopub.status.busy": "2022-04-30T07:02:29.913559Z",
     "iopub.status.idle": "2022-04-30T07:02:29.997380Z",
     "shell.execute_reply": "2022-04-30T07:02:29.997048Z"
    }
   },
   "outputs": [
    {
     "data": {
      "image/png": "[encoded data removed]",
      "text/plain": [
       "<Figure size 432x288 with 1 Axes>"
      ]
     },
     "metadata": {},
     "output_type": "display_data"
    }
   ],
   "source": [
    "# Plot histogram \n",
    "x = rng.binomial(10, 0.5, 10000)\n",
    "plt.hist(x, density=True, bins=10);"
   ]
  },
  {
   "cell_type": "markdown",
   "metadata": {},
   "source": [
    "**Note:** you may have noticed that the _binomial distribution_ can take on only  a finite number of values, whereas the _uniform distribution_ above can take on any number between $0$ and $1$. These are different enough cases to warrant special mention of this & two different names: the former is called a _probability mass function_ (PMF) and the latter a _probability distribution function_ (PDF). We will discuss more about this point later but wanted to draw your attention to it."
   ]
  },
  {
   "cell_type": "markdown",
   "metadata": {},
   "source": [
    "Although this histogram is instructive, there are certain questions which we cannot trivially answer by reading off the histogram. For example, if you wanted to know the probability of seeing 4 or more heads, you'd have to squint, approximate the height of several boxes, and add up those values. In the next chapter, we'll introduce you to a figure known as the empirical cumulative distribution function (ECDF), which makes it far easier to answer questions such as this, and also has many other benefits."
   ]
  },
  {
   "cell_type": "markdown",
   "metadata": {},
   "source": [
    "## Practical example: Test for infectious disease"
   ]
  },
  {
   "cell_type": "markdown",
   "metadata": {},
   "source": [
    "Suppose that a test for an infectious disease X has 99% sensitivity (true positive rate) and 99% specificity (true negative rate), that is, a 1% false positive rate and 1% false negative rate. Suppose that 0.5% (5 in 1,000) of people have X. What is the probability that a randomly selected individual with a positive test has X?"
   ]
  },
  {
   "cell_type": "markdown",
   "metadata": {},
   "source": [
    "We'll now harness our new computational powers and the intuition of simulation to solve this infectious disease testing example. Before doing so, however, what do you think the answer to the question \"What is the probability that a randomly selected individual with a positive test has X?\" would be?"
   ]
  },
  {
   "cell_type": "code",
   "execution_count": 14,
   "metadata": {
    "execution": {
     "iopub.execute_input": "2022-04-30T07:02:29.999742Z",
     "iopub.status.busy": "2022-04-30T07:02:29.999615Z",
     "iopub.status.idle": "2022-04-30T07:02:30.002247Z",
     "shell.execute_reply": "2022-04-30T07:02:30.001897Z"
    }
   },
   "outputs": [],
   "source": [
    "# Take 10,000 subjects\n",
    "n = 100000\n",
    "# Sample for number with X and without X\n",
    "X = rng.binomial(n, 0.005, 1) \n",
    "not_X = n - X"
   ]
  },
  {
   "cell_type": "code",
   "execution_count": 15,
   "metadata": {
    "execution": {
     "iopub.execute_input": "2022-04-30T07:02:30.004279Z",
     "iopub.status.busy": "2022-04-30T07:02:30.004168Z",
     "iopub.status.idle": "2022-04-30T07:02:30.006482Z",
     "shell.execute_reply": "2022-04-30T07:02:30.006082Z"
    }
   },
   "outputs": [],
   "source": [
    "# How many of those with X tested +ve ?\n",
    "X_pos = rng.binomial(X, 0.99)\n",
    "# How many of those without X tested +ve ?\n",
    "non_pos = rng.binomial(not_X, 0.01)"
   ]
  },
  {
   "cell_type": "code",
   "execution_count": 16,
   "metadata": {
    "execution": {
     "iopub.execute_input": "2022-04-30T07:02:30.008319Z",
     "iopub.status.busy": "2022-04-30T07:02:30.008198Z",
     "iopub.status.idle": "2022-04-30T07:02:30.011170Z",
     "shell.execute_reply": "2022-04-30T07:02:30.010921Z"
    }
   },
   "outputs": [
    {
     "data": {
      "text/plain": [
       "array([0.32035737])"
      ]
     },
     "execution_count": 16,
     "metadata": {},
     "output_type": "execute_result"
    }
   ],
   "source": [
    "# how many of those +ve tests were for people with X?\n",
    "X_pos/(X_pos+non_pos)"
   ]
  },
  {
   "cell_type": "markdown",
   "metadata": {},
   "source": [
    "If you were surprised at the answer, that's not too surprising: you've just experienced the [base rate fallacy](https://en.wikipedia.org/wiki/Base_rate_fallacy). The base rate of 99% true positive may lead one to think that most positive tests will be of people who have X, however the vast majority of the overall population don't have X, which means that there will be more that test positive incorrectly than one would otherwise expect. You may also have noticed that mistaking $P(+ve|disease)$ for $P(disease|+ve)$ is an example of Bernoulli's fallacy!"
   ]
  },
  {
   "cell_type": "markdown",
   "metadata": {},
   "source": [
    "## Wrapping up"
   ]
  },
  {
   "cell_type": "markdown",
   "metadata": {},
   "source": [
    "In this chapter, we've introduced you to the foundations of random sampling and hacker statistics using `numpy`'s random number generator. We've simulated data-generating processes using both the uniform distribution and the binomial distribution. We've introduced the story corresponding to the binomial distribution and many real-world phenomena that it is used to model.\n",
    "\n",
    "In the next chapter, we'll use Monte Carlo simulation to see how wildly applicable these techniques and distributions are to many concepts and problems in statistics and basic science, from diffusion and drift, to approximations of the Normal distribution, to the cognitive bias considerations of the Law of Small Numbers and selection bias, not to mention approximating $\\pi$.\n"
   ]
  }
 ],
 "metadata": {
  "interpreter": {
   "hash": "98b0a9b7b4eaaa670588a142fd0a9b87eaafe866f1db4228be72b4211d12040f"
  },
  "kernelspec": {
   "display_name": "Python 3 (ipykernel)",
   "language": "python",
   "name": "python3"
  },
  "language_info": {
   "codemirror_mode": {
    "name": "ipython",
    "version": 3
   },
   "file_extension": ".py",
   "mimetype": "text/x-python",
   "name": "python",
   "nbconvert_exporter": "python",
   "pygments_lexer": "ipython3",
   "version": "3.9.12"
  }
 },
 "nbformat": 4,
 "nbformat_minor": 4
}
