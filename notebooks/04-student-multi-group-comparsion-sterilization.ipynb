{
 "cells": [
  {
   "cell_type": "code",
   "execution_count": null,
   "metadata": {},
   "outputs": [],
   "source": [
    "import pymc3 as pm\n",
    "import matplotlib.pyplot as plt\n",
    "import pandas as pd\n",
    "import numpy as np\n",
    "import missingno as msno\n",
    "from sklearn.preprocessing import LabelEncoder\n",
    "import theano.tensor as tt\n",
    "from utils import ECDF\n",
    "import arviz as az\n",
    "\n",
    "%load_ext autoreload\n",
    "%autoreload 2\n",
    "%matplotlib inline\n",
    "%config InlineBackend.figure_format = 'retina'"
   ]
  },
  {
   "cell_type": "markdown",
   "metadata": {},
   "source": [
    "# Introduction\n",
    "\n",
    "This notebook is designed to give you more practice with PyMC3 syntax. \n",
    "\n",
    "It is intentionally designed to provide more guidance w.r.t. model definition, i.e. which parameters to use, such that the focus is more on PyMC3 syntax rather than the mechanics of model definition. \n",
    "\n",
    "If you are already feeling comfortable with PyMC3 syntax, and would like to instead move on to practice with model definition, then feel free to move onto notebook 5 instead, where you can play with the Darwin's Finches dataset. That notebook is intentionally designed with much more freedom.\n",
    "\n",
    "## Setup\n",
    "\n",
    "You will be experimentally analyzing the effectiveness of six different phone sterilization methods against two control methods. This research was conducted at MIT's Division of Comparative Medicine, and was published this year in the Journal of the American Association for Laboratory Animal Science. If you're interested, you can read the paper [here][jaalas].\n",
    "\n",
    "[jaalas]: https://www.ncbi.nlm.nih.gov/pubmed/29402348\n",
    "\n",
    "### Experiment Design\n",
    "\n",
    "Briefly, the experiments were setup as such.\n",
    "\n",
    "1. Pre-sterilization, three sites on the phone were swabbed and the number of colony forming units (CFUs) was determined by letting the swabbed bacteria grow on an agar plate.\n",
    "1. Post-sterilization, the same three sites were swabbed and the number of CFUs was counted.\n",
    "1. Sterilization efficacy was determined by taking the ratio of the difference of CFUs pre- and post-sterilization.\n",
    "\n",
    "In the paper, we used the following formula to compute the percentage reduction:\n",
    "\n",
    "$$\\delta_{method} = \\frac{{count}_{pre} - {count}_{post}}{{count}_{pre}}$$\n",
    "\n",
    "In retrospect, a better definition would have been:\n",
    "\n",
    "$$x = \\frac{{count}_{pre} - {count}_{post}}{{count}_{pre}}$$\n",
    "$$\\delta_{method} = \\begin{cases}\n",
    "    0 & \\text{if} & x\\lt0, \\\\\n",
    "    1 & \\text{if} & x\\gt1, \\\\\n",
    "    x & \\text{otherwise}\n",
    "    \\end{cases}$$\n",
    "\n",
    "Sometimes, due to experimental variation, there are more colonies post-sterilization than pre-sterilization. This may occur particularly when the number of colonies counted on a plate is low (e.g. countable on our fingers). Thus, clipping the values helps us avoid negative percentage reductions, which one might consider to be be an \"absurd\" scenario to be in.\n",
    "\n",
    "### Data\n",
    "\n",
    "The data for this notebook came from [Evaluation of 6 Methods for Aerobic Bacterial Sanitization of Smartphones](https://www.ncbi.nlm.nih.gov/pubmed/29402348)."
   ]
  },
  {
   "cell_type": "markdown",
   "metadata": {},
   "source": [
    "### Step 1: Define Data Generating Process\n",
    "\n",
    "Just as in the previous notebook, you may want to spend 5-10 minutes talking through the data generating process before proceeding. Most important is to list out the distributions that you think are most relevant to the problem."
   ]
  },
  {
   "cell_type": "markdown",
   "metadata": {},
   "source": [
    "### Step 2: Explore the Data\n",
    "\n",
    "Let's load the data. Here is the source code for the `load_sterilization` function, which will return the cleaned data as a pandas dataframe, as well as a mapping dictionary that we will use later to label groups."
   ]
  },
  {
   "cell_type": "code",
   "execution_count": null,
   "metadata": {},
   "outputs": [],
   "source": [
    "from data import load_sterilization\n",
    "\n",
    "load_sterilization??"
   ]
  },
  {
   "cell_type": "code",
   "execution_count": null,
   "metadata": {},
   "outputs": [],
   "source": [
    "df, mapping = load_sterilization()"
   ]
  },
  {
   "cell_type": "markdown",
   "metadata": {},
   "source": [
    "**Exercse:** \n",
    "View a random sample of 5 rows to get a feel for the structure of the data."
   ]
  },
  {
   "cell_type": "code",
   "execution_count": null,
   "metadata": {},
   "outputs": [],
   "source": [
    "# Your code below\n"
   ]
  },
  {
   "cell_type": "markdown",
   "metadata": {},
   "source": [
    "**Exercise:** To help you visualize what data are available and missing in the dataframe, run the cell below to get a visual matrix (using MissingNo). (By the way, be sure to make use of this awesome tool in your data analysis!)"
   ]
  },
  {
   "cell_type": "code",
   "execution_count": null,
   "metadata": {},
   "outputs": [],
   "source": [
    "# Run this cell, no coding required.\n",
    "msno.matrix(df)"
   ]
  },
  {
   "cell_type": "markdown",
   "metadata": {},
   "source": [
    "**Exercise:** Plot the average percentage reduction in colonies for each treatment."
   ]
  },
  {
   "cell_type": "code",
   "execution_count": null,
   "metadata": {},
   "outputs": [],
   "source": [
    "# Write your code here.\n"
   ]
  },
  {
   "cell_type": "markdown",
   "metadata": {},
   "source": [
    "### Step 3: Implement and Fit Model\n",
    "\n",
    "**Exercise:** Write the generative model for the data. \n",
    "\n",
    "To help you, this is a diagrammed version of the model below.\n",
    "\n",
    "![](../images/bacteria_model.jpg)"
   ]
  },
  {
   "cell_type": "code",
   "execution_count": null,
   "metadata": {},
   "outputs": [],
   "source": [
    "# Implement the model following the hints provided.\n",
    "with pm.Model() as _________:\n",
    "    \n",
    "    # Define an exponential distribution: it is positive-only, which fits our assumptions of the\n",
    "    # data. Also, we choose a lam parameter that allows the prior to be flat.\n",
    "    # Remember that there are 8 treatments, so the shape of these distributions must be set correctly.\n",
    "    mu_pre = \n",
    "    mu_post = \n",
    "    \n",
    "    # Define the likelihoods using Poisson distributions.\n",
    "    like_pre = \n",
    "    like_post = \n",
    "    \n",
    "    # Compute percentage reduction\n",
    "    # hint: tt.clip performs the exact same operation as \n",
    "    # np.clip, which bounds your values between 0 and 1.\n",
    "    perc_reduction = "
   ]
  },
  {
   "cell_type": "markdown",
   "metadata": {},
   "source": [
    "**Exercise:** Now, sample from the posterior!"
   ]
  },
  {
   "cell_type": "code",
   "execution_count": null,
   "metadata": {},
   "outputs": [],
   "source": [
    "# Your code below\n"
   ]
  },
  {
   "cell_type": "markdown",
   "metadata": {},
   "source": [
    "**Exercise:** Check the traces to make sure that sampling has converged."
   ]
  },
  {
   "cell_type": "code",
   "execution_count": null,
   "metadata": {},
   "outputs": [],
   "source": [
    "# Your code below. Use pm.traceplot(trace)\n"
   ]
  },
  {
   "cell_type": "markdown",
   "metadata": {},
   "source": [
    "**Exercise:** Visualize the posterior distributions of percentage reduction"
   ]
  },
  {
   "cell_type": "code",
   "execution_count": null,
   "metadata": {},
   "outputs": [],
   "source": [
    "# Use the `forestplot` or `plot_posterior` functions.\n",
    "az._______(_______, var_names=______)"
   ]
  },
  {
   "cell_type": "markdown",
   "metadata": {},
   "source": [
    "**Discussion:** Find a neighbour who is working on the same notebook, and discuss this together.\n",
    "\n",
    "- Which method of sterilization is the most effective? \n",
    "- Observe the posterior distribution. Is there any uncertainty surrounding this method's effectiveness? Could we still be wrong about the uncertainty?"
   ]
  },
  {
   "cell_type": "markdown",
   "metadata": {},
   "source": [
    "# Summary\n",
    "\n",
    "- Two-group (and multi-group) comparisons involve a Bayesian estimation procedure.\n",
    "- We estimate parameter of interest for each group, and then compare the parameter posterior distributions."
   ]
  },
  {
   "cell_type": "code",
   "execution_count": null,
   "metadata": {},
   "outputs": [],
   "source": []
  }
 ],
 "metadata": {
  "kernelspec": {
   "display_name": "bayesian-modelling-tutorial",
   "language": "python",
   "name": "bayesian-modelling-tutorial"
  },
  "language_info": {
   "codemirror_mode": {
    "name": "ipython",
    "version": 3
   },
   "file_extension": ".py",
   "mimetype": "text/x-python",
   "name": "python",
   "nbconvert_exporter": "python",
   "pygments_lexer": "ipython3",
   "version": "3.7.2"
  }
 },
 "nbformat": 4,
 "nbformat_minor": 2
}
