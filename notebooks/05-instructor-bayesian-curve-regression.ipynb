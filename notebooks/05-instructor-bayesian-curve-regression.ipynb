{
 "cells": [
  {
   "cell_type": "code",
   "execution_count": null,
   "metadata": {},
   "outputs": [],
   "source": [
    "import pymc3 as pm\n",
    "import matplotlib.pyplot as plt\n",
    "import numpy as np\n",
    "from utils import ECDF\n",
    "from data import load_decay\n",
    "import pandas as pd\n",
    "import theano.tensor as tt\n",
    "import arviz as az\n",
    "\n",
    "%load_ext autoreload\n",
    "%autoreload 2\n",
    "%matplotlib inline\n",
    "%config InlineBackend.figure_format = 'retina'"
   ]
  },
  {
   "cell_type": "markdown",
   "metadata": {},
   "source": [
    "# Arbitrary Curve Regression\n",
    "\n",
    "Now that you've learned about Bayesian estimation, we're going to explore one more topic: Bayesian curve fitting.\n",
    "\n",
    "By \"curve fitting\", we're really talking about any curve: those that are bendy, those that are straight, and those that are in between. \n",
    "\n",
    "In order to reinforce this point, rather than show you plain vanilla linear regression, we will work through an exponential decay curve example."
   ]
  },
  {
   "cell_type": "markdown",
   "metadata": {},
   "source": [
    "## Problem Setup\n",
    "\n",
    "You've taken radioactive decay measurements of an unknown element in a secure facility. The measurements are noisy, though, and potentially have some bias. In the face of this, we would like to be able to characterize the decay constant of this unknown material, potentially leading to an identification of the material."
   ]
  },
  {
   "cell_type": "markdown",
   "metadata": {},
   "source": [
    "### Load Data\n",
    "\n",
    "Let's load in the data."
   ]
  },
  {
   "cell_type": "code",
   "execution_count": null,
   "metadata": {},
   "outputs": [],
   "source": [
    "np.random.seed(42)\n",
    "\n",
    "df = load_decay()\n",
    "df.head(5)"
   ]
  },
  {
   "cell_type": "markdown",
   "metadata": {},
   "source": [
    "Plot `activity` vs. `time`."
   ]
  },
  {
   "cell_type": "code",
   "execution_count": null,
   "metadata": {},
   "outputs": [],
   "source": [
    "ax = df['activity'].plot()"
   ]
  },
  {
   "cell_type": "markdown",
   "metadata": {},
   "source": [
    "### Discussion\n",
    "\n",
    "- For the scenario that we're in, what is a plausible equation that links time to activity?\n",
    "- What are the key parameters that we need to worry about?\n",
    "- What might be justifiable priors for them?"
   ]
  },
  {
   "cell_type": "markdown",
   "metadata": {},
   "source": [
    "### Link Functions\n",
    "\n",
    "If we were to draw out a model for the curve above, how might it look like?\n",
    "\n",
    "(To reveal one possible model, double-click on this Markdown cell and remove the `z` from the end of the filename.)\n",
    "\n",
    "![](../images/radioactive-decay-model.jpgz)\n",
    "\n",
    "The most important part of this diagram is the \"link function\" - this is what \"links\" the data to the output. In this case, we've used the exponential decay curve as the link function, but if you were doing a linear regression model, all you would have to do is to change the link function for the $y=mx+c$ \"straight curve\", and do another curve fit with the appropriate priors for $m$ and $c$.\n",
    "\n",
    "If you're familiar with the mathematical groundings of deep learning, you'll immediately recognize that a deep neural network model is merely another instance of a really complicated link function that links the input data $x$ to the observed data $y$, with the model weights and biases corresponding to the parameters (let's collectively call this set of parameters $\\theta$)."
   ]
  },
  {
   "cell_type": "markdown",
   "metadata": {},
   "source": [
    "### Hands-on: Model Implementation\n",
    "\n",
    "Now that you've seen a pictorial description of the model, implement it below in PyMC3."
   ]
  },
  {
   "cell_type": "code",
   "execution_count": null,
   "metadata": {},
   "outputs": [],
   "source": [
    "with pm.Model() as model:\n",
    "    A = pm.HalfNormal('A', sd=100)\n",
    "    tau = pm.Exponential('tau', lam=1)\n",
    "    C = pm.Normal('C', sd=100)\n",
    "    \n",
    "    sd = pm.HalfCauchy('sd', beta=1)\n",
    "    \n",
    "    link = A * np.exp(-df['t'].values / tau) + C\n",
    "    \n",
    "    like = pm.Normal('activity', mu=link, sd=sd, observed=df['activity'].values)"
   ]
  },
  {
   "cell_type": "markdown",
   "metadata": {},
   "source": [
    "### Sample from the Posterior"
   ]
  },
  {
   "cell_type": "code",
   "execution_count": null,
   "metadata": {},
   "outputs": [],
   "source": [
    "with model:\n",
    "    trace = pm.sample(2000, tune=2000)\n",
    "    # Note: Sampler may pause for a while after finishing"
   ]
  },
  {
   "cell_type": "markdown",
   "metadata": {},
   "source": [
    "### Visual Diagnostics\n",
    "\n",
    "Check that sampling has converged."
   ]
  },
  {
   "cell_type": "code",
   "execution_count": null,
   "metadata": {},
   "outputs": [],
   "source": [
    "az.plot_trace(trace);"
   ]
  },
  {
   "cell_type": "code",
   "execution_count": null,
   "metadata": {},
   "outputs": [],
   "source": [
    "az.plot_posterior(trace);"
   ]
  },
  {
   "cell_type": "markdown",
   "metadata": {},
   "source": [
    "# Summary\n",
    "\n",
    "- In lieu of showing you a \"straight curve\" (line) fit, you've now seen an arbitrary curve fit.\n",
    "- As long as you can find a way to parameterize the curve with a function, you can perform inference on the curve's parameters.\n",
    "- That function is called the \"link function\", which provides the link between the parameters, data and the output.\n",
    "\n",
    "More generally, if\n",
    "\n",
    "$$y = f(x, \\theta)$$\n",
    "\n",
    "where $\\theta$ are merely a set of parameters, then you can perform inference on the curve's parameters $\\theta$. To make this clear:\n",
    "\n",
    "| curve name | functional form | parameters |\n",
    "|------------|-----------------|---------------------|\n",
    "| exponential decay | $y = Ae^{-t/\\tau} + C$ | $A$, $\\tau$, $C$|\n",
    "| sine curves | $y = A\\sin(\\omega  x + \\phi)$ | $A$, $\\omega$, $\\phi$ |\n",
    "| linear regression | $y = mx + c$ | $m$, $c$ |\n",
    "| logistic regression | $y = L(mx + c)$ | $m$, $c$ |\n",
    "| 4-parameter IC50 | $y = \\frac{a - i}{1 + 10^{\\beta(log(\\tau) - x)}} + i$ | $a$, $i$, $\\tau$, $\\beta$ |\n",
    "| deep learning | $y = f(x, \\theta)$ | $\\theta$ |"
   ]
  },
  {
   "cell_type": "code",
   "execution_count": null,
   "metadata": {},
   "outputs": [],
   "source": []
  }
 ],
 "metadata": {
  "kernelspec": {
   "display_name": "bayesian-modelling-tutorial",
   "language": "python",
   "name": "bayesian-modelling-tutorial"
  },
  "language_info": {
   "codemirror_mode": {
    "name": "ipython",
    "version": 3
   },
   "file_extension": ".py",
   "mimetype": "text/x-python",
   "name": "python",
   "nbconvert_exporter": "python",
   "pygments_lexer": "ipython3",
   "version": "3.7.3"
  }
 },
 "nbformat": 4,
 "nbformat_minor": 2
}
