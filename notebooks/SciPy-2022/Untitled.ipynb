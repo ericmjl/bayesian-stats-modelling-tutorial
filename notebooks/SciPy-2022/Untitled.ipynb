{
 "cells": [
  {
   "cell_type": "code",
   "execution_count": 1,
   "id": "d4082f80-a5f2-4f51-98ae-42b7e3949f89",
   "metadata": {},
   "outputs": [],
   "source": [
    "import nbformat\n",
    "\n"
   ]
  },
  {
   "cell_type": "code",
   "execution_count": 3,
   "id": "6b2c6b19-dc33-47a7-ba62-0d6ca5e6362b",
   "metadata": {},
   "outputs": [],
   "source": [
    "# Reading the notebooks\n",
    "first_notebook = nbformat.read('02-Instructor-Parameter_estimation_hypothesis_testing.ipynb', 4)\n",
    "second_notebook = nbformat.read('03-Instructor-PPL-first-steps.ipynb', 4)\n",
    "\n",
    "# Creating a new notebook\n",
    "final_notebook = nbformat.v4.new_notebook(metadata=first_notebook.metadata)\n",
    "\n",
    "# Concatenating the notebooks\n",
    "final_notebook.cells = first_notebook.cells + second_notebook.cells\n",
    "\n",
    "# Saving the new notebook \n",
    "nbformat.write(final_notebook, 'final_notebook.ipynb')"
   ]
  },
  {
   "cell_type": "code",
   "execution_count": null,
   "id": "803fc9af-4a3a-4acc-9b9c-b657f85c44a9",
   "metadata": {},
   "outputs": [],
   "source": []
  }
 ],
 "metadata": {
  "kernelspec": {
   "display_name": "Python 3 (ipykernel)",
   "language": "python",
   "name": "python3"
  },
  "language_info": {
   "codemirror_mode": {
    "name": "ipython",
    "version": 3
   },
   "file_extension": ".py",
   "mimetype": "text/x-python",
   "name": "python",
   "nbconvert_exporter": "python",
   "pygments_lexer": "ipython3",
   "version": "3.9.12"
  }
 },
 "nbformat": 4,
 "nbformat_minor": 5
}
